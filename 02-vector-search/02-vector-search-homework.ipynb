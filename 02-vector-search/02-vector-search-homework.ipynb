{
 "cells": [
  {
   "cell_type": "code",
   "execution_count": 1,
   "id": "2a182cad-0e4f-44e6-9632-09b30719aa99",
   "metadata": {},
   "outputs": [],
   "source": [
    "#Install Required Libraries"
   ]
  },
  {
   "cell_type": "code",
   "execution_count": 2,
   "id": "2f426f65-7904-4231-92a5-e899547d90ef",
   "metadata": {},
   "outputs": [
    {
     "name": "stdout",
     "output_type": "stream",
     "text": [
      "Requirement already satisfied: minsearch in c:\\users\\usvidr03\\appdata\\local\\programs\\python\\python312\\lib\\site-packages (0.0.2)\n",
      "Requirement already satisfied: pandas in c:\\users\\usvidr03\\appdata\\local\\programs\\python\\python312\\lib\\site-packages (from minsearch) (2.2.2)\n",
      "Requirement already satisfied: scikit-learn in c:\\users\\usvidr03\\appdata\\local\\programs\\python\\python312\\lib\\site-packages (from minsearch) (1.7.0)\n",
      "Requirement already satisfied: numpy>=1.26.0 in c:\\users\\usvidr03\\appdata\\local\\programs\\python\\python312\\lib\\site-packages (from pandas->minsearch) (1.26.4)\n",
      "Requirement already satisfied: python-dateutil>=2.8.2 in c:\\users\\usvidr03\\appdata\\local\\programs\\python\\python312\\lib\\site-packages (from pandas->minsearch) (2.9.0.post0)\n",
      "Requirement already satisfied: pytz>=2020.1 in c:\\users\\usvidr03\\appdata\\local\\programs\\python\\python312\\lib\\site-packages (from pandas->minsearch) (2024.1)\n",
      "Requirement already satisfied: tzdata>=2022.7 in c:\\users\\usvidr03\\appdata\\local\\programs\\python\\python312\\lib\\site-packages (from pandas->minsearch) (2024.1)\n",
      "Requirement already satisfied: six>=1.5 in c:\\users\\usvidr03\\appdata\\local\\programs\\python\\python312\\lib\\site-packages (from python-dateutil>=2.8.2->pandas->minsearch) (1.16.0)\n",
      "Requirement already satisfied: scipy>=1.8.0 in c:\\users\\usvidr03\\appdata\\local\\programs\\python\\python312\\lib\\site-packages (from scikit-learn->minsearch) (1.15.3)\n",
      "Requirement already satisfied: joblib>=1.2.0 in c:\\users\\usvidr03\\appdata\\local\\programs\\python\\python312\\lib\\site-packages (from scikit-learn->minsearch) (1.5.1)\n",
      "Requirement already satisfied: threadpoolctl>=3.1.0 in c:\\users\\usvidr03\\appdata\\local\\programs\\python\\python312\\lib\\site-packages (from scikit-learn->minsearch) (3.6.0)\n",
      "Requirement already satisfied: google-generativeai in c:\\users\\usvidr03\\appdata\\local\\programs\\python\\python312\\lib\\site-packages (0.5.2)\n",
      "Requirement already satisfied: google-ai-generativelanguage==0.6.2 in c:\\users\\usvidr03\\appdata\\local\\programs\\python\\python312\\lib\\site-packages (from google-generativeai) (0.6.2)\n",
      "Requirement already satisfied: google-api-core in c:\\users\\usvidr03\\appdata\\local\\programs\\python\\python312\\lib\\site-packages (from google-generativeai) (2.19.0)\n",
      "Requirement already satisfied: google-api-python-client in c:\\users\\usvidr03\\appdata\\local\\programs\\python\\python312\\lib\\site-packages (from google-generativeai) (2.127.0)\n",
      "Requirement already satisfied: google-auth>=2.15.0 in c:\\users\\usvidr03\\appdata\\local\\programs\\python\\python312\\lib\\site-packages (from google-generativeai) (2.29.0)\n",
      "Requirement already satisfied: protobuf in c:\\users\\usvidr03\\appdata\\local\\programs\\python\\python312\\lib\\site-packages (from google-generativeai) (4.25.3)\n",
      "Requirement already satisfied: pydantic in c:\\users\\usvidr03\\appdata\\local\\programs\\python\\python312\\lib\\site-packages (from google-generativeai) (2.7.1)\n",
      "Requirement already satisfied: tqdm in c:\\users\\usvidr03\\appdata\\local\\programs\\python\\python312\\lib\\site-packages (from google-generativeai) (4.66.4)\n",
      "Requirement already satisfied: typing-extensions in c:\\users\\usvidr03\\appdata\\local\\programs\\python\\python312\\lib\\site-packages (from google-generativeai) (4.11.0)\n",
      "Requirement already satisfied: proto-plus<2.0.0dev,>=1.22.3 in c:\\users\\usvidr03\\appdata\\local\\programs\\python\\python312\\lib\\site-packages (from google-ai-generativelanguage==0.6.2->google-generativeai) (1.23.0)\n",
      "Requirement already satisfied: googleapis-common-protos<2.0.dev0,>=1.56.2 in c:\\users\\usvidr03\\appdata\\local\\programs\\python\\python312\\lib\\site-packages (from google-api-core->google-generativeai) (1.63.0)\n",
      "Requirement already satisfied: requests<3.0.0.dev0,>=2.18.0 in c:\\users\\usvidr03\\appdata\\local\\programs\\python\\python312\\lib\\site-packages (from google-api-core->google-generativeai) (2.31.0)\n",
      "Requirement already satisfied: grpcio<2.0dev,>=1.33.2 in c:\\users\\usvidr03\\appdata\\local\\programs\\python\\python312\\lib\\site-packages (from google-api-core[grpc]!=2.0.*,!=2.1.*,!=2.10.*,!=2.2.*,!=2.3.*,!=2.4.*,!=2.5.*,!=2.6.*,!=2.7.*,!=2.8.*,!=2.9.*,<3.0.0dev,>=1.34.1->google-ai-generativelanguage==0.6.2->google-generativeai) (1.63.0)\n",
      "Requirement already satisfied: grpcio-status<2.0.dev0,>=1.33.2 in c:\\users\\usvidr03\\appdata\\local\\programs\\python\\python312\\lib\\site-packages (from google-api-core[grpc]!=2.0.*,!=2.1.*,!=2.10.*,!=2.2.*,!=2.3.*,!=2.4.*,!=2.5.*,!=2.6.*,!=2.7.*,!=2.8.*,!=2.9.*,<3.0.0dev,>=1.34.1->google-ai-generativelanguage==0.6.2->google-generativeai) (1.62.2)\n",
      "Requirement already satisfied: cachetools<6.0,>=2.0.0 in c:\\users\\usvidr03\\appdata\\local\\programs\\python\\python312\\lib\\site-packages (from google-auth>=2.15.0->google-generativeai) (5.3.3)\n",
      "Requirement already satisfied: pyasn1-modules>=0.2.1 in c:\\users\\usvidr03\\appdata\\local\\programs\\python\\python312\\lib\\site-packages (from google-auth>=2.15.0->google-generativeai) (0.4.0)\n",
      "Requirement already satisfied: rsa<5,>=3.1.4 in c:\\users\\usvidr03\\appdata\\local\\programs\\python\\python312\\lib\\site-packages (from google-auth>=2.15.0->google-generativeai) (4.9)\n",
      "Requirement already satisfied: charset-normalizer<4,>=2 in c:\\users\\usvidr03\\appdata\\local\\programs\\python\\python312\\lib\\site-packages (from requests<3.0.0.dev0,>=2.18.0->google-api-core->google-generativeai) (3.3.2)\n",
      "Requirement already satisfied: idna<4,>=2.5 in c:\\users\\usvidr03\\appdata\\local\\programs\\python\\python312\\lib\\site-packages (from requests<3.0.0.dev0,>=2.18.0->google-api-core->google-generativeai) (3.7)\n",
      "Requirement already satisfied: urllib3<3,>=1.21.1 in c:\\users\\usvidr03\\appdata\\local\\programs\\python\\python312\\lib\\site-packages (from requests<3.0.0.dev0,>=2.18.0->google-api-core->google-generativeai) (2.2.1)\n",
      "Requirement already satisfied: certifi>=2017.4.17 in c:\\users\\usvidr03\\appdata\\local\\programs\\python\\python312\\lib\\site-packages (from requests<3.0.0.dev0,>=2.18.0->google-api-core->google-generativeai) (2024.2.2)\n",
      "Requirement already satisfied: pyasn1>=0.1.3 in c:\\users\\usvidr03\\appdata\\local\\programs\\python\\python312\\lib\\site-packages (from rsa<5,>=3.1.4->google-auth>=2.15.0->google-generativeai) (0.6.0)\n",
      "Requirement already satisfied: httplib2<1.dev0,>=0.19.0 in c:\\users\\usvidr03\\appdata\\local\\programs\\python\\python312\\lib\\site-packages (from google-api-python-client->google-generativeai) (0.22.0)\n",
      "Requirement already satisfied: google-auth-httplib2<1.0.0,>=0.2.0 in c:\\users\\usvidr03\\appdata\\local\\programs\\python\\python312\\lib\\site-packages (from google-api-python-client->google-generativeai) (0.2.0)\n",
      "Requirement already satisfied: uritemplate<5,>=3.0.1 in c:\\users\\usvidr03\\appdata\\local\\programs\\python\\python312\\lib\\site-packages (from google-api-python-client->google-generativeai) (4.1.1)\n",
      "Requirement already satisfied: pyparsing!=3.0.0,!=3.0.1,!=3.0.2,!=3.0.3,<4,>=2.4.2 in c:\\users\\usvidr03\\appdata\\local\\programs\\python\\python312\\lib\\site-packages (from httplib2<1.dev0,>=0.19.0->google-api-python-client->google-generativeai) (3.1.2)\n",
      "Requirement already satisfied: annotated-types>=0.4.0 in c:\\users\\usvidr03\\appdata\\local\\programs\\python\\python312\\lib\\site-packages (from pydantic->google-generativeai) (0.6.0)\n",
      "Requirement already satisfied: pydantic-core==2.18.2 in c:\\users\\usvidr03\\appdata\\local\\programs\\python\\python312\\lib\\site-packages (from pydantic->google-generativeai) (2.18.2)\n",
      "Requirement already satisfied: colorama in c:\\users\\usvidr03\\appdata\\local\\programs\\python\\python312\\lib\\site-packages (from tqdm->google-generativeai) (0.4.6)\n",
      "Requirement already satisfied: jupyter in c:\\users\\usvidr03\\appdata\\local\\programs\\python\\python312\\lib\\site-packages (1.1.1)\n",
      "Requirement already satisfied: ipywidgets in c:\\users\\usvidr03\\appdata\\local\\programs\\python\\python312\\lib\\site-packages (8.1.7)\n",
      "Requirement already satisfied: notebook in c:\\users\\usvidr03\\appdata\\local\\programs\\python\\python312\\lib\\site-packages (from jupyter) (7.1.3)\n",
      "Requirement already satisfied: jupyter-console in c:\\users\\usvidr03\\appdata\\local\\programs\\python\\python312\\lib\\site-packages (from jupyter) (6.6.3)\n",
      "Requirement already satisfied: nbconvert in c:\\users\\usvidr03\\appdata\\local\\programs\\python\\python312\\lib\\site-packages (from jupyter) (7.16.4)\n",
      "Requirement already satisfied: ipykernel in c:\\users\\usvidr03\\appdata\\local\\programs\\python\\python312\\lib\\site-packages (from jupyter) (6.29.4)\n",
      "Requirement already satisfied: jupyterlab in c:\\users\\usvidr03\\appdata\\local\\programs\\python\\python312\\lib\\site-packages (from jupyter) (4.1.8)\n",
      "Requirement already satisfied: comm>=0.1.3 in c:\\users\\usvidr03\\appdata\\local\\programs\\python\\python312\\lib\\site-packages (from ipywidgets) (0.2.2)\n",
      "Requirement already satisfied: ipython>=6.1.0 in c:\\users\\usvidr03\\appdata\\local\\programs\\python\\python312\\lib\\site-packages (from ipywidgets) (8.24.0)\n",
      "Requirement already satisfied: traitlets>=4.3.1 in c:\\users\\usvidr03\\appdata\\local\\programs\\python\\python312\\lib\\site-packages (from ipywidgets) (5.14.3)\n",
      "Requirement already satisfied: widgetsnbextension~=4.0.14 in c:\\users\\usvidr03\\appdata\\local\\programs\\python\\python312\\lib\\site-packages (from ipywidgets) (4.0.14)\n",
      "Requirement already satisfied: jupyterlab_widgets~=3.0.15 in c:\\users\\usvidr03\\appdata\\local\\programs\\python\\python312\\lib\\site-packages (from ipywidgets) (3.0.15)\n",
      "Requirement already satisfied: decorator in c:\\users\\usvidr03\\appdata\\local\\programs\\python\\python312\\lib\\site-packages (from ipython>=6.1.0->ipywidgets) (5.1.1)\n",
      "Requirement already satisfied: jedi>=0.16 in c:\\users\\usvidr03\\appdata\\local\\programs\\python\\python312\\lib\\site-packages (from ipython>=6.1.0->ipywidgets) (0.19.1)\n",
      "Requirement already satisfied: matplotlib-inline in c:\\users\\usvidr03\\appdata\\local\\programs\\python\\python312\\lib\\site-packages (from ipython>=6.1.0->ipywidgets) (0.1.7)\n",
      "Requirement already satisfied: prompt-toolkit<3.1.0,>=3.0.41 in c:\\users\\usvidr03\\appdata\\local\\programs\\python\\python312\\lib\\site-packages (from ipython>=6.1.0->ipywidgets) (3.0.43)\n",
      "Requirement already satisfied: pygments>=2.4.0 in c:\\users\\usvidr03\\appdata\\local\\programs\\python\\python312\\lib\\site-packages (from ipython>=6.1.0->ipywidgets) (2.17.2)\n",
      "Requirement already satisfied: stack-data in c:\\users\\usvidr03\\appdata\\local\\programs\\python\\python312\\lib\\site-packages (from ipython>=6.1.0->ipywidgets) (0.6.3)\n",
      "Requirement already satisfied: colorama in c:\\users\\usvidr03\\appdata\\local\\programs\\python\\python312\\lib\\site-packages (from ipython>=6.1.0->ipywidgets) (0.4.6)\n",
      "Requirement already satisfied: wcwidth in c:\\users\\usvidr03\\appdata\\local\\programs\\python\\python312\\lib\\site-packages (from prompt-toolkit<3.1.0,>=3.0.41->ipython>=6.1.0->ipywidgets) (0.2.13)\n",
      "Requirement already satisfied: parso<0.9.0,>=0.8.3 in c:\\users\\usvidr03\\appdata\\local\\programs\\python\\python312\\lib\\site-packages (from jedi>=0.16->ipython>=6.1.0->ipywidgets) (0.8.4)\n",
      "Requirement already satisfied: debugpy>=1.6.5 in c:\\users\\usvidr03\\appdata\\local\\programs\\python\\python312\\lib\\site-packages (from ipykernel->jupyter) (1.8.1)\n",
      "Requirement already satisfied: jupyter-client>=6.1.12 in c:\\users\\usvidr03\\appdata\\local\\programs\\python\\python312\\lib\\site-packages (from ipykernel->jupyter) (8.6.1)\n",
      "Requirement already satisfied: jupyter-core!=5.0.*,>=4.12 in c:\\users\\usvidr03\\appdata\\local\\programs\\python\\python312\\lib\\site-packages (from ipykernel->jupyter) (5.7.2)\n",
      "Requirement already satisfied: nest-asyncio in c:\\users\\usvidr03\\appdata\\local\\programs\\python\\python312\\lib\\site-packages (from ipykernel->jupyter) (1.6.0)\n",
      "Requirement already satisfied: packaging in c:\\users\\usvidr03\\appdata\\local\\programs\\python\\python312\\lib\\site-packages (from ipykernel->jupyter) (24.0)\n",
      "Requirement already satisfied: psutil in c:\\users\\usvidr03\\appdata\\local\\programs\\python\\python312\\lib\\site-packages (from ipykernel->jupyter) (5.9.8)\n",
      "Requirement already satisfied: pyzmq>=24 in c:\\users\\usvidr03\\appdata\\local\\programs\\python\\python312\\lib\\site-packages (from ipykernel->jupyter) (26.0.3)\n",
      "Requirement already satisfied: tornado>=6.1 in c:\\users\\usvidr03\\appdata\\local\\programs\\python\\python312\\lib\\site-packages (from ipykernel->jupyter) (6.4)\n",
      "Requirement already satisfied: python-dateutil>=2.8.2 in c:\\users\\usvidr03\\appdata\\local\\programs\\python\\python312\\lib\\site-packages (from jupyter-client>=6.1.12->ipykernel->jupyter) (2.9.0.post0)\n",
      "Requirement already satisfied: platformdirs>=2.5 in c:\\users\\usvidr03\\appdata\\local\\programs\\python\\python312\\lib\\site-packages (from jupyter-core!=5.0.*,>=4.12->ipykernel->jupyter) (4.2.1)\n",
      "Requirement already satisfied: pywin32>=300 in c:\\users\\usvidr03\\appdata\\local\\programs\\python\\python312\\lib\\site-packages (from jupyter-core!=5.0.*,>=4.12->ipykernel->jupyter) (306)\n",
      "Requirement already satisfied: six>=1.5 in c:\\users\\usvidr03\\appdata\\local\\programs\\python\\python312\\lib\\site-packages (from python-dateutil>=2.8.2->jupyter-client>=6.1.12->ipykernel->jupyter) (1.16.0)\n",
      "Requirement already satisfied: async-lru>=1.0.0 in c:\\users\\usvidr03\\appdata\\local\\programs\\python\\python312\\lib\\site-packages (from jupyterlab->jupyter) (2.0.4)\n",
      "Requirement already satisfied: httpx>=0.25.0 in c:\\users\\usvidr03\\appdata\\local\\programs\\python\\python312\\lib\\site-packages (from jupyterlab->jupyter) (0.27.0)\n",
      "Requirement already satisfied: jinja2>=3.0.3 in c:\\users\\usvidr03\\appdata\\local\\programs\\python\\python312\\lib\\site-packages (from jupyterlab->jupyter) (3.1.3)\n",
      "Requirement already satisfied: jupyter-lsp>=2.0.0 in c:\\users\\usvidr03\\appdata\\local\\programs\\python\\python312\\lib\\site-packages (from jupyterlab->jupyter) (2.2.5)\n",
      "Requirement already satisfied: jupyter-server<3,>=2.4.0 in c:\\users\\usvidr03\\appdata\\local\\programs\\python\\python312\\lib\\site-packages (from jupyterlab->jupyter) (2.14.0)\n",
      "Requirement already satisfied: jupyterlab-server<3,>=2.27.1 in c:\\users\\usvidr03\\appdata\\local\\programs\\python\\python312\\lib\\site-packages (from jupyterlab->jupyter) (2.27.1)\n",
      "Requirement already satisfied: notebook-shim>=0.2 in c:\\users\\usvidr03\\appdata\\local\\programs\\python\\python312\\lib\\site-packages (from jupyterlab->jupyter) (0.2.4)\n",
      "Requirement already satisfied: anyio>=3.1.0 in c:\\users\\usvidr03\\appdata\\local\\programs\\python\\python312\\lib\\site-packages (from jupyter-server<3,>=2.4.0->jupyterlab->jupyter) (4.3.0)\n",
      "Requirement already satisfied: argon2-cffi>=21.1 in c:\\users\\usvidr03\\appdata\\local\\programs\\python\\python312\\lib\\site-packages (from jupyter-server<3,>=2.4.0->jupyterlab->jupyter) (23.1.0)\n",
      "Requirement already satisfied: jupyter-events>=0.9.0 in c:\\users\\usvidr03\\appdata\\local\\programs\\python\\python312\\lib\\site-packages (from jupyter-server<3,>=2.4.0->jupyterlab->jupyter) (0.10.0)\n",
      "Requirement already satisfied: jupyter-server-terminals>=0.4.4 in c:\\users\\usvidr03\\appdata\\local\\programs\\python\\python312\\lib\\site-packages (from jupyter-server<3,>=2.4.0->jupyterlab->jupyter) (0.5.3)\n",
      "Requirement already satisfied: nbformat>=5.3.0 in c:\\users\\usvidr03\\appdata\\local\\programs\\python\\python312\\lib\\site-packages (from jupyter-server<3,>=2.4.0->jupyterlab->jupyter) (5.10.4)\n",
      "Requirement already satisfied: overrides>=5.0 in c:\\users\\usvidr03\\appdata\\local\\programs\\python\\python312\\lib\\site-packages (from jupyter-server<3,>=2.4.0->jupyterlab->jupyter) (7.7.0)\n",
      "Requirement already satisfied: prometheus-client>=0.9 in c:\\users\\usvidr03\\appdata\\local\\programs\\python\\python312\\lib\\site-packages (from jupyter-server<3,>=2.4.0->jupyterlab->jupyter) (0.20.0)\n",
      "Requirement already satisfied: pywinpty>=2.0.1 in c:\\users\\usvidr03\\appdata\\local\\programs\\python\\python312\\lib\\site-packages (from jupyter-server<3,>=2.4.0->jupyterlab->jupyter) (2.0.13)\n",
      "Requirement already satisfied: send2trash>=1.8.2 in c:\\users\\usvidr03\\appdata\\local\\programs\\python\\python312\\lib\\site-packages (from jupyter-server<3,>=2.4.0->jupyterlab->jupyter) (1.8.3)\n",
      "Requirement already satisfied: terminado>=0.8.3 in c:\\users\\usvidr03\\appdata\\local\\programs\\python\\python312\\lib\\site-packages (from jupyter-server<3,>=2.4.0->jupyterlab->jupyter) (0.18.1)\n",
      "Requirement already satisfied: websocket-client>=1.7 in c:\\users\\usvidr03\\appdata\\local\\programs\\python\\python312\\lib\\site-packages (from jupyter-server<3,>=2.4.0->jupyterlab->jupyter) (1.8.0)\n",
      "Requirement already satisfied: babel>=2.10 in c:\\users\\usvidr03\\appdata\\local\\programs\\python\\python312\\lib\\site-packages (from jupyterlab-server<3,>=2.27.1->jupyterlab->jupyter) (2.14.0)\n",
      "Requirement already satisfied: json5>=0.9.0 in c:\\users\\usvidr03\\appdata\\local\\programs\\python\\python312\\lib\\site-packages (from jupyterlab-server<3,>=2.27.1->jupyterlab->jupyter) (0.9.25)\n",
      "Requirement already satisfied: jsonschema>=4.18.0 in c:\\users\\usvidr03\\appdata\\local\\programs\\python\\python312\\lib\\site-packages (from jupyterlab-server<3,>=2.27.1->jupyterlab->jupyter) (4.22.0)\n",
      "Requirement already satisfied: requests>=2.31 in c:\\users\\usvidr03\\appdata\\local\\programs\\python\\python312\\lib\\site-packages (from jupyterlab-server<3,>=2.27.1->jupyterlab->jupyter) (2.31.0)\n",
      "Requirement already satisfied: idna>=2.8 in c:\\users\\usvidr03\\appdata\\local\\programs\\python\\python312\\lib\\site-packages (from anyio>=3.1.0->jupyter-server<3,>=2.4.0->jupyterlab->jupyter) (3.7)\n",
      "Requirement already satisfied: sniffio>=1.1 in c:\\users\\usvidr03\\appdata\\local\\programs\\python\\python312\\lib\\site-packages (from anyio>=3.1.0->jupyter-server<3,>=2.4.0->jupyterlab->jupyter) (1.3.1)\n",
      "Requirement already satisfied: argon2-cffi-bindings in c:\\users\\usvidr03\\appdata\\local\\programs\\python\\python312\\lib\\site-packages (from argon2-cffi>=21.1->jupyter-server<3,>=2.4.0->jupyterlab->jupyter) (21.2.0)\n",
      "Requirement already satisfied: certifi in c:\\users\\usvidr03\\appdata\\local\\programs\\python\\python312\\lib\\site-packages (from httpx>=0.25.0->jupyterlab->jupyter) (2024.2.2)\n",
      "Requirement already satisfied: httpcore==1.* in c:\\users\\usvidr03\\appdata\\local\\programs\\python\\python312\\lib\\site-packages (from httpx>=0.25.0->jupyterlab->jupyter) (1.0.5)\n",
      "Requirement already satisfied: h11<0.15,>=0.13 in c:\\users\\usvidr03\\appdata\\local\\programs\\python\\python312\\lib\\site-packages (from httpcore==1.*->httpx>=0.25.0->jupyterlab->jupyter) (0.14.0)\n",
      "Requirement already satisfied: MarkupSafe>=2.0 in c:\\users\\usvidr03\\appdata\\local\\programs\\python\\python312\\lib\\site-packages (from jinja2>=3.0.3->jupyterlab->jupyter) (2.1.5)\n",
      "Requirement already satisfied: attrs>=22.2.0 in c:\\users\\usvidr03\\appdata\\local\\programs\\python\\python312\\lib\\site-packages (from jsonschema>=4.18.0->jupyterlab-server<3,>=2.27.1->jupyterlab->jupyter) (23.2.0)\n",
      "Requirement already satisfied: jsonschema-specifications>=2023.03.6 in c:\\users\\usvidr03\\appdata\\local\\programs\\python\\python312\\lib\\site-packages (from jsonschema>=4.18.0->jupyterlab-server<3,>=2.27.1->jupyterlab->jupyter) (2023.12.1)\n",
      "Requirement already satisfied: referencing>=0.28.4 in c:\\users\\usvidr03\\appdata\\local\\programs\\python\\python312\\lib\\site-packages (from jsonschema>=4.18.0->jupyterlab-server<3,>=2.27.1->jupyterlab->jupyter) (0.35.1)\n",
      "Requirement already satisfied: rpds-py>=0.7.1 in c:\\users\\usvidr03\\appdata\\local\\programs\\python\\python312\\lib\\site-packages (from jsonschema>=4.18.0->jupyterlab-server<3,>=2.27.1->jupyterlab->jupyter) (0.18.0)\n",
      "Requirement already satisfied: python-json-logger>=2.0.4 in c:\\users\\usvidr03\\appdata\\local\\programs\\python\\python312\\lib\\site-packages (from jupyter-events>=0.9.0->jupyter-server<3,>=2.4.0->jupyterlab->jupyter) (2.0.7)\n",
      "Requirement already satisfied: pyyaml>=5.3 in c:\\users\\usvidr03\\appdata\\local\\programs\\python\\python312\\lib\\site-packages (from jupyter-events>=0.9.0->jupyter-server<3,>=2.4.0->jupyterlab->jupyter) (6.0.1)\n",
      "Requirement already satisfied: rfc3339-validator in c:\\users\\usvidr03\\appdata\\local\\programs\\python\\python312\\lib\\site-packages (from jupyter-events>=0.9.0->jupyter-server<3,>=2.4.0->jupyterlab->jupyter) (0.1.4)\n",
      "Requirement already satisfied: rfc3986-validator>=0.1.1 in c:\\users\\usvidr03\\appdata\\local\\programs\\python\\python312\\lib\\site-packages (from jupyter-events>=0.9.0->jupyter-server<3,>=2.4.0->jupyterlab->jupyter) (0.1.1)\n",
      "Requirement already satisfied: fqdn in c:\\users\\usvidr03\\appdata\\local\\programs\\python\\python312\\lib\\site-packages (from jsonschema[format-nongpl]>=4.18.0->jupyter-events>=0.9.0->jupyter-server<3,>=2.4.0->jupyterlab->jupyter) (1.5.1)\n",
      "Requirement already satisfied: isoduration in c:\\users\\usvidr03\\appdata\\local\\programs\\python\\python312\\lib\\site-packages (from jsonschema[format-nongpl]>=4.18.0->jupyter-events>=0.9.0->jupyter-server<3,>=2.4.0->jupyterlab->jupyter) (20.11.0)\n",
      "Requirement already satisfied: jsonpointer>1.13 in c:\\users\\usvidr03\\appdata\\local\\programs\\python\\python312\\lib\\site-packages (from jsonschema[format-nongpl]>=4.18.0->jupyter-events>=0.9.0->jupyter-server<3,>=2.4.0->jupyterlab->jupyter) (2.4)\n",
      "Requirement already satisfied: uri-template in c:\\users\\usvidr03\\appdata\\local\\programs\\python\\python312\\lib\\site-packages (from jsonschema[format-nongpl]>=4.18.0->jupyter-events>=0.9.0->jupyter-server<3,>=2.4.0->jupyterlab->jupyter) (1.3.0)\n",
      "Requirement already satisfied: webcolors>=1.11 in c:\\users\\usvidr03\\appdata\\local\\programs\\python\\python312\\lib\\site-packages (from jsonschema[format-nongpl]>=4.18.0->jupyter-events>=0.9.0->jupyter-server<3,>=2.4.0->jupyterlab->jupyter) (1.13)\n",
      "Requirement already satisfied: beautifulsoup4 in c:\\users\\usvidr03\\appdata\\local\\programs\\python\\python312\\lib\\site-packages (from nbconvert->jupyter) (4.12.3)\n",
      "Requirement already satisfied: bleach!=5.0.0 in c:\\users\\usvidr03\\appdata\\local\\programs\\python\\python312\\lib\\site-packages (from nbconvert->jupyter) (6.1.0)\n",
      "Requirement already satisfied: defusedxml in c:\\users\\usvidr03\\appdata\\local\\programs\\python\\python312\\lib\\site-packages (from nbconvert->jupyter) (0.7.1)\n",
      "Requirement already satisfied: jupyterlab-pygments in c:\\users\\usvidr03\\appdata\\local\\programs\\python\\python312\\lib\\site-packages (from nbconvert->jupyter) (0.3.0)\n",
      "Requirement already satisfied: mistune<4,>=2.0.3 in c:\\users\\usvidr03\\appdata\\local\\programs\\python\\python312\\lib\\site-packages (from nbconvert->jupyter) (3.0.2)\n",
      "Requirement already satisfied: nbclient>=0.5.0 in c:\\users\\usvidr03\\appdata\\local\\programs\\python\\python312\\lib\\site-packages (from nbconvert->jupyter) (0.10.0)\n",
      "Requirement already satisfied: pandocfilters>=1.4.1 in c:\\users\\usvidr03\\appdata\\local\\programs\\python\\python312\\lib\\site-packages (from nbconvert->jupyter) (1.5.1)\n",
      "Requirement already satisfied: tinycss2 in c:\\users\\usvidr03\\appdata\\local\\programs\\python\\python312\\lib\\site-packages (from nbconvert->jupyter) (1.3.0)\n",
      "Requirement already satisfied: webencodings in c:\\users\\usvidr03\\appdata\\local\\programs\\python\\python312\\lib\\site-packages (from bleach!=5.0.0->nbconvert->jupyter) (0.5.1)\n",
      "Requirement already satisfied: fastjsonschema>=2.15 in c:\\users\\usvidr03\\appdata\\local\\programs\\python\\python312\\lib\\site-packages (from nbformat>=5.3.0->jupyter-server<3,>=2.4.0->jupyterlab->jupyter) (2.19.1)\n",
      "Requirement already satisfied: charset-normalizer<4,>=2 in c:\\users\\usvidr03\\appdata\\local\\programs\\python\\python312\\lib\\site-packages (from requests>=2.31->jupyterlab-server<3,>=2.27.1->jupyterlab->jupyter) (3.3.2)\n",
      "Requirement already satisfied: urllib3<3,>=1.21.1 in c:\\users\\usvidr03\\appdata\\local\\programs\\python\\python312\\lib\\site-packages (from requests>=2.31->jupyterlab-server<3,>=2.27.1->jupyterlab->jupyter) (2.2.1)\n",
      "Requirement already satisfied: cffi>=1.0.1 in c:\\users\\usvidr03\\appdata\\local\\programs\\python\\python312\\lib\\site-packages (from argon2-cffi-bindings->argon2-cffi>=21.1->jupyter-server<3,>=2.4.0->jupyterlab->jupyter) (1.16.0)\n",
      "Requirement already satisfied: pycparser in c:\\users\\usvidr03\\appdata\\local\\programs\\python\\python312\\lib\\site-packages (from cffi>=1.0.1->argon2-cffi-bindings->argon2-cffi>=21.1->jupyter-server<3,>=2.4.0->jupyterlab->jupyter) (2.22)\n",
      "Requirement already satisfied: soupsieve>1.2 in c:\\users\\usvidr03\\appdata\\local\\programs\\python\\python312\\lib\\site-packages (from beautifulsoup4->nbconvert->jupyter) (2.5)\n",
      "Requirement already satisfied: arrow>=0.15.0 in c:\\users\\usvidr03\\appdata\\local\\programs\\python\\python312\\lib\\site-packages (from isoduration->jsonschema[format-nongpl]>=4.18.0->jupyter-events>=0.9.0->jupyter-server<3,>=2.4.0->jupyterlab->jupyter) (1.3.0)\n",
      "Requirement already satisfied: types-python-dateutil>=2.8.10 in c:\\users\\usvidr03\\appdata\\local\\programs\\python\\python312\\lib\\site-packages (from arrow>=0.15.0->isoduration->jsonschema[format-nongpl]>=4.18.0->jupyter-events>=0.9.0->jupyter-server<3,>=2.4.0->jupyterlab->jupyter) (2.9.0.20240316)\n",
      "Requirement already satisfied: executing>=1.2.0 in c:\\users\\usvidr03\\appdata\\local\\programs\\python\\python312\\lib\\site-packages (from stack-data->ipython>=6.1.0->ipywidgets) (2.0.1)\n",
      "Requirement already satisfied: asttokens>=2.1.0 in c:\\users\\usvidr03\\appdata\\local\\programs\\python\\python312\\lib\\site-packages (from stack-data->ipython>=6.1.0->ipywidgets) (2.4.1)\n",
      "Requirement already satisfied: pure-eval in c:\\users\\usvidr03\\appdata\\local\\programs\\python\\python312\\lib\\site-packages (from stack-data->ipython>=6.1.0->ipywidgets) (0.2.2)\n"
     ]
    }
   ],
   "source": [
    "!pip install minsearch\n",
    "!pip install -q \"qdrant-client[fastembed]>=1.14.2\"\n",
    "!pip install google-generativeai\n",
    "!pip install --upgrade jupyter ipywidgets"
   ]
  },
  {
   "cell_type": "code",
   "execution_count": 3,
   "id": "63b0fd25-41a2-48ad-b9bf-3f1265308bd4",
   "metadata": {},
   "outputs": [],
   "source": [
    "import minsearch\n",
    "import json\n",
    "import google.generativeai as genai\n",
    "import os\n",
    "import requests "
   ]
  },
  {
   "cell_type": "code",
   "execution_count": 4,
   "id": "1e8c3915-b6b2-4b1a-944f-1a005e6aeeda",
   "metadata": {},
   "outputs": [],
   "source": [
    "genai.configure(api_key=\"#\") #--- Input your Gemini API Key\n",
    "model = genai.GenerativeModel('gemini-2.5-flash')"
   ]
  },
  {
   "cell_type": "code",
   "execution_count": 5,
   "id": "5bdaf6ce-2540-494f-989c-5b94b1b6626c",
   "metadata": {},
   "outputs": [],
   "source": [
    "import requests \n",
    "\n",
    "docs_url = 'https://github.com/alexeygrigorev/llm-rag-workshop/raw/main/notebooks/documents.json'\n",
    "docs_response = requests.get(docs_url)\n",
    "documents_raw = docs_response.json()\n",
    "\n",
    "documents = []\n",
    "\n",
    "for course in documents_raw:\n",
    "    course_name = course['course']\n",
    "\n",
    "    for doc in course['documents']:\n",
    "        doc['course'] = course_name\n",
    "        documents.append(doc)"
   ]
  },
  {
   "cell_type": "code",
   "execution_count": 7,
   "id": "c499838b-73b3-44be-8ba6-f46d3693aa59",
   "metadata": {},
   "outputs": [
    {
     "data": {
      "text/plain": [
       "<minsearch.minsearch.Index at 0x27a2412bb30>"
      ]
     },
     "execution_count": 7,
     "metadata": {},
     "output_type": "execute_result"
    }
   ],
   "source": [
    "index = minsearch.Index(\n",
    "    text_fields=[\"question\", \"text\", \"section\"],\n",
    "    keyword_fields=[\"course\"]\n",
    ")\n",
    "index.fit(documents)"
   ]
  },
  {
   "cell_type": "code",
   "execution_count": 11,
   "id": "b21237c3-80e9-429c-a089-d45428087046",
   "metadata": {},
   "outputs": [],
   "source": [
    "def search(query):\n",
    "    boost = {'question': 3.0, 'section': 0.5}\n",
    "\n",
    "    results = index.search(\n",
    "        query=query,\n",
    "        filter_dict={'course': 'data-engineering-zoomcamp'},\n",
    "        boost_dict=boost,\n",
    "        num_results=5\n",
    "    )\n",
    "\n",
    "    return results"
   ]
  },
  {
   "cell_type": "code",
   "execution_count": 12,
   "id": "8cc5784e-6515-42e5-be62-8fb915df1088",
   "metadata": {},
   "outputs": [],
   "source": [
    "def build_prompt(query, search_results):\n",
    "    prompt_template = \"\"\"\n",
    "You're a course teaching assistant. Answer the QUESTION based on the CONTEXT from the FAQ database.\n",
    "Use only the facts from the CONTEXT when answering the QUESTION.\n",
    "\n",
    "QUESTION: {question}\n",
    "\n",
    "CONTEXT: \n",
    "{context}\n",
    "\"\"\".strip()\n",
    "\n",
    "    context = \"\"\n",
    "    \n",
    "    for doc in search_results:\n",
    "        context = context + f\"section: {doc['section']}\\nquestion: {doc['question']}\\nanswer: {doc['text']}\\n\\n\"\n",
    "    \n",
    "    prompt = prompt_template.format(question=query, context=context).strip()\n",
    "    return prompt"
   ]
  },
  {
   "cell_type": "code",
   "execution_count": 13,
   "id": "97d35dec-c25f-472d-b961-20d5c30902ae",
   "metadata": {},
   "outputs": [],
   "source": [
    "def llm(prompt):\n",
    "    response = model.generate_content(\n",
    "        {\"role\": \"user\", \"parts\": [prompt]}\n",
    "    )\n",
    "    return response.text"
   ]
  },
  {
   "cell_type": "code",
   "execution_count": 14,
   "id": "8602f40b-ad3b-49c9-b3cc-051a79c888bc",
   "metadata": {},
   "outputs": [],
   "source": [
    "def rag(query):\n",
    "    search_results = search(query)\n",
    "    prompt = build_prompt(query, search_results)\n",
    "    answer = llm(prompt)\n",
    "    return answer"
   ]
  },
  {
   "cell_type": "code",
   "execution_count": 15,
   "id": "385b012f-4905-422d-8d7c-3d542dfe5a7c",
   "metadata": {},
   "outputs": [
    {
     "data": {
      "text/plain": [
       "\"Yes, you can still join the course after the start date. Even if you don't register, you're still eligible to submit the homeworks. However, be aware that there will be deadlines for turning in the final projects.\""
      ]
     },
     "execution_count": 15,
     "metadata": {},
     "output_type": "execute_result"
    }
   ],
   "source": [
    "rag('the course has already started, can I still enroll?')"
   ]
  },
  {
   "cell_type": "code",
   "execution_count": 16,
   "id": "bca399de-cbf7-4193-aea6-58584146c2dd",
   "metadata": {},
   "outputs": [],
   "source": [
    "## RAG with Vector Search"
   ]
  },
  {
   "cell_type": "code",
   "execution_count": 17,
   "id": "ae2ba410-4cfa-4600-968f-73bb3c49f16d",
   "metadata": {},
   "outputs": [],
   "source": [
    "#Import Required Libraries & Connect to Qdrant"
   ]
  },
  {
   "cell_type": "code",
   "execution_count": 18,
   "id": "c0691ece-5a8a-4dd3-9fb7-d2ee5d69bea3",
   "metadata": {},
   "outputs": [],
   "source": [
    "from qdrant_client import QdrantClient, models"
   ]
  },
  {
   "cell_type": "code",
   "execution_count": 19,
   "id": "deb162f4-7a66-4b59-ba47-b7fcd930305b",
   "metadata": {},
   "outputs": [],
   "source": [
    "qd_client = QdrantClient(\"http://localhost:6333\")"
   ]
  },
  {
   "cell_type": "code",
   "execution_count": 20,
   "id": "05da086f-c210-435f-856b-a1c9c4714ccd",
   "metadata": {},
   "outputs": [],
   "source": [
    "EMBEDDING_DIMENSIONALITY = 512\n",
    "model_handle = \"jinaai/jina-embeddings-v2-small-en\""
   ]
  },
  {
   "cell_type": "code",
   "execution_count": 21,
   "id": "c8578067-a5d1-476b-b9cc-d4946cb4952f",
   "metadata": {},
   "outputs": [],
   "source": [
    "collection_name = \"zoomcamp-faq\""
   ]
  },
  {
   "cell_type": "code",
   "execution_count": 22,
   "id": "dcd4bbb7-1aa7-4d13-b5b2-37896fda8ee5",
   "metadata": {},
   "outputs": [
    {
     "data": {
      "text/plain": [
       "True"
      ]
     },
     "execution_count": 22,
     "metadata": {},
     "output_type": "execute_result"
    }
   ],
   "source": [
    "qd_client.delete_collection(collection_name=collection_name)"
   ]
  },
  {
   "cell_type": "code",
   "execution_count": 23,
   "id": "12f57850-cfbb-487b-b3de-d3cf3e291a21",
   "metadata": {},
   "outputs": [
    {
     "data": {
      "text/plain": [
       "True"
      ]
     },
     "execution_count": 23,
     "metadata": {},
     "output_type": "execute_result"
    }
   ],
   "source": [
    "qd_client.create_collection(\n",
    "    collection_name=collection_name,\n",
    "    vectors_config=models.VectorParams(\n",
    "        size=EMBEDDING_DIMENSIONALITY,\n",
    "        distance=models.Distance.COSINE\n",
    "    )\n",
    ")"
   ]
  },
  {
   "cell_type": "code",
   "execution_count": 24,
   "id": "6f5e97ef-3480-4f2d-92e4-e9d52b0726d2",
   "metadata": {},
   "outputs": [
    {
     "data": {
      "text/plain": [
       "UpdateResult(operation_id=1, status=<UpdateStatus.COMPLETED: 'completed'>)"
      ]
     },
     "execution_count": 24,
     "metadata": {},
     "output_type": "execute_result"
    }
   ],
   "source": [
    "qd_client.create_payload_index(\n",
    "    collection_name=collection_name,\n",
    "    field_name=\"course\",\n",
    "    field_schema=\"keyword\"\n",
    ")"
   ]
  },
  {
   "cell_type": "code",
   "execution_count": 25,
   "id": "a611fbad-f15f-497b-aab4-90e474cda9ad",
   "metadata": {},
   "outputs": [],
   "source": [
    "points = []\n",
    "\n",
    "for i, doc in enumerate(documents):\n",
    "    text = doc['question'] + ' ' + doc['text']\n",
    "    vector = models.Document(text=text, model=model_handle)\n",
    "    point = models.PointStruct(\n",
    "        id=i,\n",
    "        vector=vector,\n",
    "        payload=doc\n",
    "    )\n",
    "    points.append(point)"
   ]
  },
  {
   "cell_type": "code",
   "execution_count": 26,
   "id": "47c75c4a-4822-475b-8f74-7b10920f2e5a",
   "metadata": {},
   "outputs": [
    {
     "data": {
      "text/plain": [
       "UpdateResult(operation_id=2, status=<UpdateStatus.COMPLETED: 'completed'>)"
      ]
     },
     "execution_count": 26,
     "metadata": {},
     "output_type": "execute_result"
    }
   ],
   "source": [
    "qd_client.upsert(\n",
    "    collection_name=collection_name,\n",
    "    points=points\n",
    ")"
   ]
  },
  {
   "cell_type": "code",
   "execution_count": 27,
   "id": "8e6d6f93-79e1-4226-8f28-8ebbf849ce55",
   "metadata": {},
   "outputs": [],
   "source": [
    "question = 'I just discovered the course. Can I still join it?'"
   ]
  },
  {
   "cell_type": "code",
   "execution_count": 28,
   "id": "f1080478-dd02-482a-b82e-6408de351604",
   "metadata": {},
   "outputs": [],
   "source": [
    "def vector_search(question):\n",
    "    print('vector_search is used')\n",
    "    \n",
    "    course = 'data-engineering-zoomcamp'\n",
    "    query_points = qd_client.query_points(\n",
    "        collection_name=collection_name,\n",
    "        query=models.Document(\n",
    "            text=question,\n",
    "            model=model_handle \n",
    "        ),\n",
    "        query_filter=models.Filter( \n",
    "            must=[\n",
    "                models.FieldCondition(\n",
    "                    key=\"course\",\n",
    "                    match=models.MatchValue(value=course)\n",
    "                )\n",
    "            ]\n",
    "        ),\n",
    "        limit=5,\n",
    "        with_payload=True\n",
    "    )\n",
    "    \n",
    "    results = []\n",
    "    \n",
    "    for point in query_points.points:\n",
    "        results.append(point.payload)\n",
    "    \n",
    "    return results"
   ]
  },
  {
   "cell_type": "code",
   "execution_count": 29,
   "id": "a0351f3a-9f88-440a-a130-9efff0ddf89d",
   "metadata": {},
   "outputs": [],
   "source": [
    "def rag_vector_search(query):\n",
    "    search_results = vector_search(query)\n",
    "    prompt = build_prompt(query, search_results)\n",
    "    answer = llm(prompt)\n",
    "    return answer"
   ]
  },
  {
   "cell_type": "code",
   "execution_count": 30,
   "id": "c33a5968-fc62-4698-b955-fe951af53e04",
   "metadata": {},
   "outputs": [
    {
     "name": "stdout",
     "output_type": "stream",
     "text": [
      "vector_search is used\n"
     ]
    },
    {
     "data": {
      "text/plain": [
       "\"Yes, you can still join the course. Even if you don't register, you are eligible to submit the homeworks. However, be aware that there will be deadlines for turning in the final projects.\""
      ]
     },
     "execution_count": 30,
     "metadata": {},
     "output_type": "execute_result"
    }
   ],
   "source": [
    "rag_vector_search('I just discovered the course. Can I join now?')"
   ]
  },
  {
   "cell_type": "code",
   "execution_count": 31,
   "id": "be92a51e-8ba1-4416-8626-4685ea965375",
   "metadata": {},
   "outputs": [],
   "source": [
    "#Q1. Embedding the query\n",
    "#Embed the query: 'I just discovered the course. Can I join now?'. Use the 'jinaai/jina-embeddings-v2-small-en' model.\n",
    "\n",
    "#You should get a numpy array of size 512.\n",
    "#What's the minimal value in this array?"
   ]
  },
  {
   "cell_type": "code",
   "execution_count": null,
   "id": "97354356-4300-4ada-a7d5-3fe342bfd1d4",
   "metadata": {},
   "outputs": [],
   "source": [
    "!pip install fastembed\n",
    "from fastembed import TextEmbedding\n",
    "import tqdm as notebook_tqdm\n",
    "import numpy as np"
   ]
  },
  {
   "cell_type": "code",
   "execution_count": 33,
   "id": "9aee44aa-2818-4659-84f2-8c1cfd4ea4b1",
   "metadata": {},
   "outputs": [
    {
     "name": "stdout",
     "output_type": "stream",
     "text": [
      "The minimal value in the embedding array is: -0.11726373885183883\n"
     ]
    }
   ],
   "source": [
    "query = 'I just discovered the course. Can I join now?'\n",
    "\n",
    "model_name = \"jinaai/jina-embeddings-v2-small-en\"\n",
    "embedding_model = TextEmbedding(model_name=model_name)\n",
    "\n",
    "EMBEDDING_DIMENSIONALITY = 512\n",
    "\n",
    "embeddings_generator = embedding_model.embed(query)\n",
    "query_list = np.array(list(embeddings_generator))\n",
    "min_value = np.min(query_list)\n",
    "\n",
    "print(f\"The minimal value in the embedding array is: {min_value}\")"
   ]
  },
  {
   "cell_type": "code",
   "execution_count": 34,
   "id": "e44a3aa3-0316-4f1d-926b-9093562ec207",
   "metadata": {},
   "outputs": [
    {
     "name": "stdout",
     "output_type": "stream",
     "text": [
      "The L2 norm of the embedding is: 1.0\n"
     ]
    },
    {
     "data": {
      "text/plain": [
       "array([[-7.63946260e-02, -7.30555505e-02,  5.86501763e-02,\n",
       "         3.92670571e-02, -1.41797115e-02, -4.68342854e-02,\n",
       "         2.69862822e-02,  3.49039060e-02,  1.53419217e-03,\n",
       "        -1.10407363e-02,  5.57556285e-02, -2.88360142e-02,\n",
       "        -4.87239498e-02, -9.90923923e-02,  6.02579764e-02,\n",
       "        -1.86105379e-02, -8.81040139e-03, -3.01994831e-02,\n",
       "        -1.42541815e-02, -3.87884212e-02, -2.76125662e-02,\n",
       "        -6.94957533e-03,  3.20653319e-02, -5.17838394e-03,\n",
       "         8.37959894e-02, -8.87329606e-02, -7.30260625e-02,\n",
       "         5.92846802e-02,  4.07805674e-02,  7.72684822e-02,\n",
       "        -4.60029697e-02,  3.98426895e-02,  1.74821510e-02,\n",
       "         8.70263712e-03, -3.09291054e-02,  2.20470391e-02,\n",
       "         4.76479896e-02,  1.76566196e-02, -3.62013627e-02,\n",
       "        -3.53408062e-02, -5.92537995e-03,  2.97091202e-02,\n",
       "         8.05883752e-02,  1.07132722e-02, -5.38192519e-02,\n",
       "        -9.62881111e-03, -1.17263739e-01,  3.36546374e-02,\n",
       "         7.05763168e-03,  7.70159791e-03, -5.17482529e-02,\n",
       "         5.46955574e-02, -7.80289904e-02,  4.21801655e-02,\n",
       "         1.26250977e-02,  5.31339061e-02, -2.67777188e-02,\n",
       "         1.68820697e-02, -3.75064593e-02,  9.13196419e-03,\n",
       "         2.13696828e-02,  1.60150107e-02, -5.05650168e-02,\n",
       "         5.62205981e-02, -3.66802752e-02, -3.85416649e-02,\n",
       "        -4.21257068e-02, -1.36921605e-02, -8.58582000e-02,\n",
       "         2.62640812e-02, -6.18555653e-02, -8.85548653e-03,\n",
       "         1.23171107e-01, -6.75609552e-02, -4.34100617e-03,\n",
       "         1.59791480e-02, -4.54303694e-02,  7.61061035e-02,\n",
       "         1.84935283e-02, -3.07273239e-02, -4.37180980e-02,\n",
       "        -4.74576970e-02, -1.95920213e-02,  1.23776773e-02,\n",
       "        -9.96104568e-03, -6.74156430e-02,  2.54752070e-02,\n",
       "         1.22318157e-02,  5.58628908e-02, -3.14317861e-02,\n",
       "        -7.23993812e-03,  6.33249508e-02,  5.72494416e-03,\n",
       "        -6.21999926e-02, -3.08616666e-02, -4.27290132e-02,\n",
       "         5.16963715e-02,  3.27879512e-02, -2.44813464e-02,\n",
       "         1.79127801e-02,  9.48254300e-02,  2.18383887e-04,\n",
       "         7.01356128e-02, -2.01385767e-02,  3.64990936e-02,\n",
       "         2.13020106e-02, -5.67677388e-02, -3.08141841e-02,\n",
       "        -1.13907057e-01, -2.70064381e-02,  2.60184816e-03,\n",
       "        -3.29073599e-02, -2.55483216e-02, -3.43663291e-03,\n",
       "        -5.98275691e-02,  1.65986045e-02,  7.20702840e-02,\n",
       "        -4.90840227e-02, -4.08007783e-02, -1.96389009e-02,\n",
       "         5.16470383e-02,  2.06059173e-02, -1.93461828e-02,\n",
       "         3.72109559e-02,  5.30464167e-02,  7.98735160e-02,\n",
       "         8.71969437e-04, -3.86963865e-03, -1.05970662e-02,\n",
       "         2.70435984e-03, -2.64808107e-02,  2.43888780e-02,\n",
       "        -2.96613003e-02,  1.24279089e-02,  1.33079558e-01,\n",
       "        -3.45950744e-02, -4.59976034e-03,  3.19832290e-02,\n",
       "        -3.03514393e-02,  3.81469801e-02, -4.84041680e-02,\n",
       "        -4.63792157e-02,  4.00906577e-02, -4.82729863e-02,\n",
       "        -1.67069455e-02,  3.55168502e-03,  6.37974835e-02,\n",
       "        -5.38861010e-02, -7.28366643e-02,  1.03431210e-04,\n",
       "        -1.55753781e-02,  3.20123469e-02, -6.41519738e-02,\n",
       "        -1.35402483e-02, -1.19589491e-03,  8.67279173e-02,\n",
       "        -7.58013634e-03,  5.23631978e-02,  1.13389494e-02,\n",
       "        -2.93922167e-02, -1.96549197e-02,  7.33475686e-02,\n",
       "        -1.86934887e-02, -4.86155360e-02, -4.39756671e-02,\n",
       "        -4.00230242e-02,  7.97138121e-02,  9.00253404e-02,\n",
       "        -5.18778926e-02,  8.56788887e-03,  5.70034858e-02,\n",
       "         2.18162346e-02, -6.55327841e-02, -1.07204614e-02,\n",
       "        -1.09933147e-01, -3.49229900e-02, -1.67648673e-02,\n",
       "         1.53578421e-02, -4.12044263e-02, -3.24616957e-02,\n",
       "         2.44591813e-02, -3.86447249e-02, -2.74304005e-02,\n",
       "         2.07971664e-02,  2.59328065e-02, -4.47550373e-02,\n",
       "        -2.40584152e-02,  7.30849360e-03,  1.92917565e-02,\n",
       "        -2.69451117e-02,  1.38715598e-02,  6.96978341e-03,\n",
       "         1.17285654e-02, -1.83301697e-02, -2.18455101e-02,\n",
       "         2.70035214e-03, -1.10025930e-02,  8.52295180e-03,\n",
       "        -1.21902448e-03,  2.31681636e-02,  8.07126958e-03,\n",
       "         6.94039269e-02, -5.96166642e-02,  3.58433548e-02,\n",
       "        -4.35553226e-02,  4.33547736e-02, -4.15783640e-02,\n",
       "        -5.66755635e-02, -5.41887066e-02, -2.39018335e-02,\n",
       "         5.63714821e-03,  2.37437432e-02,  7.10345497e-02,\n",
       "         1.73168487e-02, -3.22589041e-02, -1.94681982e-02,\n",
       "        -1.88142497e-02, -2.30825031e-02,  3.37894944e-02,\n",
       "        -1.82798398e-02,  3.88098424e-03,  1.84338045e-02,\n",
       "        -4.55277628e-03,  2.63694266e-02, -1.90359504e-02,\n",
       "        -2.69390028e-02,  1.15375980e-02,  1.16613910e-02,\n",
       "        -8.27911303e-03, -3.64428532e-02,  9.96343799e-02,\n",
       "        -2.95558942e-02, -5.38948585e-02, -2.51995032e-02,\n",
       "         1.22391840e-02, -2.27057696e-02,  5.10331226e-03,\n",
       "        -6.74026331e-03, -2.43784301e-02,  6.32223970e-04,\n",
       "        -7.28257728e-02,  3.13266362e-02,  6.93626651e-02,\n",
       "        -4.75812931e-02,  3.87882214e-03,  3.42483823e-02,\n",
       "         7.59028679e-02, -9.77512922e-03,  4.14942597e-02,\n",
       "         7.31681366e-02, -1.54856581e-02, -1.17918575e-02,\n",
       "        -1.91986853e-02, -9.79173999e-02, -3.14926753e-02,\n",
       "         5.35587215e-02, -2.07791778e-02,  6.31239230e-02,\n",
       "        -5.97242859e-02, -2.34605019e-02,  1.62664047e-02,\n",
       "         5.36607945e-02, -1.37692602e-02,  6.59834105e-02,\n",
       "        -9.24494435e-03, -1.99639826e-03, -4.87563415e-02,\n",
       "         1.39512364e-02,  1.22513624e-02,  2.98668828e-02,\n",
       "        -8.00471534e-03, -5.96026749e-03,  2.81731843e-02,\n",
       "        -2.13344179e-02, -3.77622793e-02, -2.27153343e-02,\n",
       "         5.60920953e-02,  4.30224526e-03,  3.63267996e-02,\n",
       "        -3.72252920e-02, -4.53949945e-02,  5.85438537e-02,\n",
       "         1.51176422e-02,  1.58622231e-02,  7.37733782e-02,\n",
       "        -2.13885598e-02,  3.21582294e-02,  4.98212947e-02,\n",
       "         1.01769604e-01, -1.24236435e-02,  1.43238043e-02,\n",
       "        -9.48454560e-02, -2.63608466e-02, -8.66007188e-03,\n",
       "        -9.82907467e-03,  7.52736761e-02,  3.69446387e-02,\n",
       "         3.14539880e-02,  1.04801427e-03,  3.11805728e-02,\n",
       "         1.28968684e-02,  2.60712994e-02, -4.77127535e-02,\n",
       "        -2.55665457e-02,  1.08133073e-02,  1.03259874e-02,\n",
       "         3.39032555e-02,  2.75457424e-03, -4.14582012e-02,\n",
       "        -1.88644922e-02, -7.76502173e-03, -2.58755999e-02,\n",
       "        -1.52598044e-02,  3.38669614e-02,  6.38997726e-02,\n",
       "         3.95947359e-02,  6.39279106e-02, -5.20339341e-02,\n",
       "        -6.02775764e-02,  1.38304806e-02, -3.38930505e-02,\n",
       "         8.20156635e-03,  4.29572420e-02,  2.78503586e-02,\n",
       "         4.60315577e-02,  3.15629126e-02, -6.26106865e-02,\n",
       "        -2.00963853e-02, -2.12951154e-02,  7.16957078e-03,\n",
       "        -2.15068569e-02,  2.82382423e-02, -5.88513197e-02,\n",
       "        -9.00752448e-02, -4.32891886e-02,  1.63749742e-02,\n",
       "        -6.45089774e-02, -7.18055952e-02,  2.46501169e-02,\n",
       "        -2.64174014e-02,  3.86115464e-02,  1.27169565e-02,\n",
       "         8.03685672e-04,  8.49159402e-02,  1.61136302e-02,\n",
       "        -4.81793090e-03,  2.04594849e-02,  1.67128650e-02,\n",
       "        -3.03005825e-02, -1.24897047e-02, -3.63357728e-02,\n",
       "         1.44468333e-03, -4.16270567e-02, -1.42457325e-02,\n",
       "        -8.83564826e-02,  6.22003659e-03, -2.39217371e-02,\n",
       "        -7.03374646e-02, -1.11459769e-02,  1.11177866e-01,\n",
       "         6.87285555e-03, -7.54896071e-02, -1.73166835e-02,\n",
       "         6.21763840e-02,  4.25542051e-02, -1.69422625e-02,\n",
       "        -1.63471712e-02, -3.44401454e-02,  4.77698132e-02,\n",
       "         2.33155298e-02,  8.94857826e-02,  1.42584208e-02,\n",
       "         1.43973414e-02, -5.88510365e-02,  3.24906040e-02,\n",
       "        -3.99427283e-02,  4.31553610e-02, -7.62977668e-04,\n",
       "         1.45717973e-04, -1.85997997e-02,  1.81445612e-02,\n",
       "         1.57167364e-02,  1.29852596e-02, -5.66555449e-02,\n",
       "        -5.92251874e-02,  2.17671620e-02, -1.70178640e-02,\n",
       "         2.31958723e-02,  5.17287716e-02,  3.37852959e-03,\n",
       "        -4.31143234e-02, -4.11303191e-02, -3.27946610e-02,\n",
       "         2.10255619e-02,  4.65154831e-02, -7.14069534e-02,\n",
       "         6.12375013e-02,  5.74542284e-02, -1.79589860e-02,\n",
       "         7.42588820e-02, -7.82925929e-03,  2.00935910e-02,\n",
       "        -4.51636184e-02, -8.47051140e-03, -4.02671006e-02,\n",
       "        -3.99867475e-02, -7.70418961e-02, -1.81935777e-02,\n",
       "         2.48719998e-02,  1.00413838e-02,  5.88155492e-02,\n",
       "         1.62364723e-02,  6.73376058e-02,  1.34455565e-02,\n",
       "        -3.37173721e-02, -7.30230081e-02, -6.79930628e-02,\n",
       "        -2.74973249e-02, -3.99597450e-02,  2.44650646e-02,\n",
       "         1.31535110e-02,  2.45552779e-03, -3.60949438e-02,\n",
       "         2.72918057e-02,  6.22414340e-02,  7.20206119e-03,\n",
       "         2.80186718e-02, -3.16789369e-02,  5.00258220e-02,\n",
       "         3.00860520e-02,  7.12026124e-03, -3.76218121e-02,\n",
       "        -4.77905406e-02,  3.03310049e-02, -7.07371730e-02,\n",
       "         4.68780653e-02,  2.32905925e-02, -8.25114015e-02,\n",
       "         2.57834102e-02, -8.21667654e-03,  1.05564397e-01,\n",
       "        -9.76066944e-02,  3.49954042e-02,  2.96988144e-02,\n",
       "         6.05656990e-02,  9.99905877e-02,  6.00288395e-02,\n",
       "        -2.74579383e-02, -3.83101976e-02,  4.98680448e-02,\n",
       "         9.85788765e-03,  5.27928464e-02, -4.71740333e-02,\n",
       "         2.29061163e-02, -1.41790659e-02, -2.21464944e-03,\n",
       "        -1.27322523e-02, -1.00020015e-01,  2.18197615e-02,\n",
       "         2.71504457e-02,  3.33837602e-02, -2.58465315e-02,\n",
       "        -3.42772881e-02, -1.70145880e-02,  8.48108924e-03,\n",
       "         2.40059520e-02,  5.04427584e-02, -7.67204713e-03,\n",
       "         6.80716881e-02, -1.75598061e-02, -1.96400559e-02,\n",
       "        -8.53397784e-02, -3.29056414e-03,  4.06993761e-02,\n",
       "         9.23691839e-02,  1.29570486e-02,  5.61266639e-02,\n",
       "         4.19532063e-02, -5.81196839e-02,  9.31649506e-02,\n",
       "        -8.03499941e-02, -5.46839092e-02, -6.23098193e-02,\n",
       "        -8.77602426e-02, -3.27637979e-02, -3.68523842e-02,\n",
       "         2.54524859e-02, -3.51777163e-03,  6.20159225e-02,\n",
       "         3.89112303e-02, -4.91863775e-02, -6.71836526e-02,\n",
       "        -1.25448864e-02, -3.02974540e-02, -4.00670636e-02,\n",
       "         4.24238795e-02,  2.46685657e-02, -4.83336442e-02,\n",
       "         6.88141229e-02,  4.17306001e-02,  4.73113083e-02,\n",
       "        -7.63803321e-02,  1.48983892e-02,  4.59311499e-02,\n",
       "        -2.27894423e-02,  7.15364112e-02, -2.08668148e-02,\n",
       "        -4.33649954e-02, -7.64807886e-02,  7.62216942e-02,\n",
       "         3.91963105e-02,  1.22587277e-02]])"
      ]
     },
     "execution_count": 34,
     "metadata": {},
     "output_type": "execute_result"
    }
   ],
   "source": [
    "import numpy as np\n",
    "\n",
    "norm = np.linalg.norm(query_list)\n",
    "print(f\"The L2 norm of the embedding is: {norm}\")\n",
    "\n",
    "query_list.dot(norm)"
   ]
  },
  {
   "cell_type": "code",
   "execution_count": null,
   "id": "3e259996-1676-42e3-bf89-2edb80816dc4",
   "metadata": {},
   "outputs": [],
   "source": [
    "#Q2. Cosine similarity with another vector\n",
    "#Now let's embed this document:\n",
    "\n",
    "#doc = 'Can I still join the course after the start date?'\n",
    "#What's the cosine similarity between the vector for the query and the vector for the document?"
   ]
  },
  {
   "cell_type": "code",
   "execution_count": 35,
   "id": "a0410833-ba9a-4767-b8b8-9374e2eb27a0",
   "metadata": {},
   "outputs": [
    {
     "name": "stdout",
     "output_type": "stream",
     "text": [
      "The L2 norm of the embedding is: 1.0\n"
     ]
    },
    {
     "data": {
      "text/plain": [
       "array([[0.90085289]])"
      ]
     },
     "execution_count": 35,
     "metadata": {},
     "output_type": "execute_result"
    }
   ],
   "source": [
    "doc = 'Can I still join the course after the start date?'\n",
    "\n",
    "EMBEDDING_DIMENSIONALITY = 512\n",
    "\n",
    "doc_generator = embedding_model.embed(doc)\n",
    "doc_list = np.array(list(doc_generator))\n",
    "import numpy as np\n",
    "\n",
    "# Calculate the L2 norm of the embedding\n",
    "norm_doc = np.linalg.norm(doc_list)\n",
    "print(f\"The L2 norm of the embedding is: {norm_doc}\")\n",
    "\n",
    "query_list.dot(doc_list.T)"
   ]
  },
  {
   "cell_type": "code",
   "execution_count": null,
   "id": "253e0bad-561b-4a47-9977-7a792ed3785a",
   "metadata": {},
   "outputs": [],
   "source": [
    "#Q3: Ranking by cosine\n",
    "#Compute the embeddings for the text field, and compute the cosine between the query vector and all the documents.\n",
    "#What's the document index with the highest similarity? (Indexing starts from 0):"
   ]
  },
  {
   "cell_type": "code",
   "execution_count": 36,
   "id": "9bfb7557-e079-4f32-b2d2-eefc30214e57",
   "metadata": {},
   "outputs": [],
   "source": [
    "documents = [{'text': \"Yes, even if you don't register, you're still eligible to submit the homeworks.\\nBe aware, however, that there will be deadlines for turning in the final projects. So don't leave everything for the last minute.\",\n",
    "  'section': 'General course-related questions',\n",
    "  'question': 'Course - Can I still join the course after the start date?',\n",
    "  'course': 'data-engineering-zoomcamp'},\n",
    " {'text': 'Yes, we will keep all the materials after the course finishes, so you can follow the course at your own pace after it finishes.\\nYou can also continue looking at the homeworks and continue preparing for the next cohort. I guess you can also start working on your final capstone project.',\n",
    "  'section': 'General course-related questions',\n",
    "  'question': 'Course - Can I follow the course after it finishes?',\n",
    "  'course': 'data-engineering-zoomcamp'},\n",
    " {'text': \"The purpose of this document is to capture frequently asked technical questions\\nThe exact day and hour of the course will be 15th Jan 2024 at 17h00. The course will start with the first  “Office Hours'' live.1\\nSubscribe to course public Google Calendar (it works from Desktop only).\\nRegister before the course starts using this link.\\nJoin the course Telegram channel with announcements.\\nDon’t forget to register in DataTalks.Club's Slack and join the channel.\",\n",
    "  'section': 'General course-related questions',\n",
    "  'question': 'Course - When will the course start?',\n",
    "  'course': 'data-engineering-zoomcamp'},\n",
    " {'text': 'You can start by installing and setting up all the dependencies and requirements:\\nGoogle cloud account\\nGoogle Cloud SDK\\nPython 3 (installed with Anaconda)\\nTerraform\\nGit\\nLook over the prerequisites and syllabus to see if you are comfortable with these subjects.',\n",
    "  'section': 'General course-related questions',\n",
    "  'question': 'Course - What can I do before the course starts?',\n",
    "  'course': 'data-engineering-zoomcamp'},\n",
    " {'text': 'Star the repo! Share it with friends if you find it useful ❣️\\nCreate a PR if you see you can improve the text or the structure of the repository.',\n",
    "  'section': 'General course-related questions',\n",
    "  'question': 'How can we contribute to the course?',\n",
    "  'course': 'data-engineering-zoomcamp'}]"
   ]
  },
  {
   "cell_type": "code",
   "execution_count": 37,
   "id": "f75c7035-d2f3-4e95-93c0-77d922880b83",
   "metadata": {},
   "outputs": [
    {
     "name": "stdout",
     "output_type": "stream",
     "text": [
      "\n",
      "Embedding 5 document texts...\n"
     ]
    }
   ],
   "source": [
    "# Extract the 'text' field from each document\n",
    "document_texts = [doc[\"text\"] for doc in documents]\n",
    "\n",
    "print(f\"\\nEmbedding {len(document_texts)} document texts...\")\n",
    "# Embed all document texts\n",
    "document_embeddings = embedding_model.embed(document_texts)"
   ]
  },
  {
   "cell_type": "code",
   "execution_count": 38,
   "id": "efe8b1f4-9925-471c-b32b-a810e4f287b4",
   "metadata": {},
   "outputs": [],
   "source": [
    "# Ensure embeddings are normalized for cosine similarity if not already by the model\n",
    "# Jina embeddings are typically normalized, but it's good practice to ensure.\n",
    "\n",
    "query_embedding_norm = query_list / np.linalg.norm(query_list)"
   ]
  },
  {
   "cell_type": "code",
   "execution_count": 39,
   "id": "2c6615c1-d84f-44a2-a743-0c3a4b0b6c41",
   "metadata": {},
   "outputs": [],
   "source": [
    "document_list = np.array(list(document_embeddings))\n",
    "document_embeddings_norm = document_list / np.linalg.norm(document_list, axis=1, keepdims=True)"
   ]
  },
  {
   "cell_type": "code",
   "execution_count": 40,
   "id": "b9d458a2-f410-4058-adc0-789fca4f2fcd",
   "metadata": {},
   "outputs": [],
   "source": [
    "similarities = np.dot(document_embeddings_norm, query_embedding_norm.reshape(-1, 1)).flatten()"
   ]
  },
  {
   "cell_type": "code",
   "execution_count": 41,
   "id": "917f1e1f-21ec-474c-844b-9d161e96792b",
   "metadata": {},
   "outputs": [
    {
     "name": "stdout",
     "output_type": "stream",
     "text": [
      "\n",
      "Cosine Similarities with Query:\n",
      "Document 0: 0.7630\n",
      "Document 1: 0.8182\n",
      "Document 2: 0.8085\n",
      "Document 3: 0.7133\n",
      "Document 4: 0.7304\n"
     ]
    }
   ],
   "source": [
    "print(\"\\nCosine Similarities with Query:\")\n",
    "for i, sim in enumerate(similarities):\n",
    "    print(f\"Document {i}: {sim:.4f}\")"
   ]
  },
  {
   "cell_type": "code",
   "execution_count": 42,
   "id": "29b0221e-e7ca-4c5b-9469-e3dc5733b076",
   "metadata": {},
   "outputs": [
    {
     "name": "stdout",
     "output_type": "stream",
     "text": [
      "\n",
      "Document index with the highest similarity: 1\n",
      "Highest similarity value: 0.8182\n"
     ]
    }
   ],
   "source": [
    "# Find the index of the document with the highest similarity\n",
    "highest_similarity_index = np.argmax(similarities)\n",
    "max_similarity_value = similarities[highest_similarity_index]\n",
    "\n",
    "print(f\"\\nDocument index with the highest similarity: {highest_similarity_index}\")\n",
    "print(f\"Highest similarity value: {max_similarity_value:.4f}\")"
   ]
  },
  {
   "cell_type": "code",
   "execution_count": null,
   "id": "abef2e81-7127-48a3-b552-eb3986560220",
   "metadata": {},
   "outputs": [],
   "source": [
    "#Q4. Ranking by cosine, version two\n",
    "#Now let's calculate a new field, which is a concatenation of question and text:\n",
    "#full_text = doc['question'] + ' ' + doc['text']\n",
    "#Embed this field and compute the cosine between it and the query vector. What's the highest scoring document?"
   ]
  },
  {
   "cell_type": "code",
   "execution_count": 43,
   "id": "9cfe42de-f8be-4f56-8ee5-b3afd4eb6f88",
   "metadata": {},
   "outputs": [
    {
     "name": "stdout",
     "output_type": "stream",
     "text": [
      "(5, 512)\n",
      "(1, 512)\n"
     ]
    }
   ],
   "source": [
    "full_text = [doc['question'] + ' ' + doc['text'] for doc in documents]\n",
    "model_name = \"jinaai/jina-embeddings-v2-small-en\"\n",
    "embedding_model = TextEmbedding(model_name=model_name)\n",
    "\n",
    "EMBEDDING_DIMENSIONALITY = 512\n",
    "\n",
    "full_embeddings = embedding_model.embed(full_text)\n",
    "full_list = np.array(list(full_embeddings))\n",
    "full_embedding_norm = full_list / np.linalg.norm(full_list, axis=1, keepdims=True)\n",
    "\n",
    "query_embedding_norm = query_list / np.linalg.norm(query_list)\n",
    "# Print shapes for verification\n",
    "print(full_embedding_norm.shape)\n",
    "print(query_embedding_norm.shape)\n",
    "\n",
    "similarities = np.dot(query_embedding_norm, full_embedding_norm.T)"
   ]
  },
  {
   "cell_type": "code",
   "execution_count": 44,
   "id": "18bf942e-a4cd-4592-95ba-fa961e9200ce",
   "metadata": {},
   "outputs": [
    {
     "name": "stdout",
     "output_type": "stream",
     "text": [
      "\n",
      "Cosine Similarities with Query:\n",
      "Document 0: 0.8515\n",
      "Document 1: 0.8437\n",
      "Document 2: 0.8408\n",
      "Document 3: 0.7755\n",
      "Document 4: 0.8086\n",
      "Highest similarity value: 0.8515\n"
     ]
    }
   ],
   "source": [
    "print(\"\\nCosine Similarities with Query:\")\n",
    "# Flatten the similarities array to make it a 1D array\n",
    "for i, sim_value in enumerate(similarities.flatten()):\n",
    "    print(f\"Document {i}: {sim_value:.4f}\")\n",
    "\n",
    "# Find the index of the document with the highest similarity\n",
    "highest_similarity_index = np.argmax(similarities)\n",
    "max_similarity_value = similarities[highest_similarity_index]\n",
    "\n",
    "print(f\"Highest similarity value: {max_similarity_value[0]:.4f}\")"
   ]
  },
  {
   "cell_type": "code",
   "execution_count": null,
   "id": "82c8882e-1f3f-4589-adcb-0190162605ca",
   "metadata": {},
   "outputs": [],
   "source": [
    "#Q5. Selecting the embedding model\n",
    "#Now let's select a smaller embedding model. What's the smallest dimensionality for models in fastembed?"
   ]
  },
  {
   "cell_type": "code",
   "execution_count": 45,
   "id": "46d4d332-f093-45ee-bc5c-1f85cc142a85",
   "metadata": {},
   "outputs": [
    {
     "name": "stdout",
     "output_type": "stream",
     "text": [
      "(5, 384)\n",
      "(1, 384)\n"
     ]
    }
   ],
   "source": [
    "\n",
    "full_text = [doc['question'] + ' ' + doc['text'] for doc in documents]\n",
    "model_name = \"BAAI/bge-small-en\"\n",
    "embedding_model = TextEmbedding(model_name=model_name)\n",
    "\n",
    "EMBEDDING_DIMENSIONALITY = 384 \n",
    "\n",
    "full_embeddings = embedding_model.embed(full_text)\n",
    "full_list = np.array(list(full_embeddings))\n",
    "full_embedding_norm = full_list / np.linalg.norm(full_list, axis=1, keepdims=True)\n",
    "\n",
    "embeddings_generator = embedding_model.embed(query)\n",
    "query_list = np.array(list(embeddings_generator))\n",
    "min_value = np.min(query_list)\n",
    "query_embedding_norm = query_list / np.linalg.norm(query_list)\n",
    "# Print shapes for verification\n",
    "print(full_embedding_norm.shape)\n",
    "print(query_embedding_norm.shape)\n",
    "\n",
    "similarities = np.dot(query_embedding_norm, full_embedding_norm.T)"
   ]
  },
  {
   "cell_type": "code",
   "execution_count": 67,
   "id": "7493d1ee-a508-4de7-8bcb-380a91b310f8",
   "metadata": {},
   "outputs": [
    {
     "name": "stdout",
     "output_type": "stream",
     "text": [
      "\n",
      "Cosine Similarities with Query:\n",
      "Document 0: 0.8508\n",
      "Document 1: 0.8354\n",
      "Document 2: 0.8469\n",
      "Document 3: 0.8225\n",
      "Document 4: 0.8297\n",
      "Highest similarity value: 0.8508\n"
     ]
    }
   ],
   "source": [
    "print(\"\\nCosine Similarities with Query:\")\n",
    "# Flatten the similarities array to make it a 1D array\n",
    "for i, sim_value in enumerate(similarities.flatten()):\n",
    "    print(f\"Document {i}: {sim_value:.4f}\")\n",
    "\n",
    "# Find the index of the document with the highest similarity\n",
    "highest_similarity_index = np.argmax(similarities)\n",
    "max_similarity_value = similarities[highest_similarity_index]\n",
    "\n",
    "print(f\"Highest similarity value: {max_similarity_value[0]:.4f}\")"
   ]
  },
  {
   "cell_type": "code",
   "execution_count": 47,
   "id": "8b50fd11-a432-4ff4-a4fa-802a3dbc1e25",
   "metadata": {},
   "outputs": [],
   "source": [
    "#Q6. Indexing with qdrant\n",
    "#We will select only FAQ records from our ml zoomcamp: \n",
    "#Add them to qdrant using the model form Q5.\n",
    "#When adding the data, use both question and answer fields:\n",
    "#text = doc['question'] + ' ' + doc['text']\n",
    "#After the data is inserted, use the question from Q1 for querying the collection.\n",
    "#What's the highest score in the results? (The score for the first returned record):"
   ]
  },
  {
   "cell_type": "code",
   "execution_count": 76,
   "id": "42500cd3-e3ef-44de-9fed-841cb9e9ff03",
   "metadata": {},
   "outputs": [],
   "source": [
    "import requests \n",
    "\n",
    "docs_url = 'https://github.com/alexeygrigorev/llm-rag-workshop/raw/main/notebooks/documents.json'\n",
    "docs_response = requests.get(docs_url)\n",
    "documents_raw = docs_response.json()\n",
    "\n",
    "documents = []\n",
    "\n",
    "for course in documents_raw:\n",
    "    course_name = course['course']\n",
    "    if course_name != 'machine-learning-zoomcamp':\n",
    "        continue\n",
    "\n",
    "    for doc in course['documents']:\n",
    "        doc['course'] = course_name\n",
    "        documents.append(doc)\n",
    "\n",
    "EMBEDDING_DIMENSIONALITY = 384 \n",
    "\n",
    "text = [doc['question'] + ' ' + doc['text'] for doc in documents]"
   ]
  },
  {
   "cell_type": "code",
   "execution_count": 88,
   "id": "44b10719-2bb8-40e2-80f4-88538dd1ff58",
   "metadata": {},
   "outputs": [],
   "source": [
    "from fastembed import TextEmbedding\n",
    "import numpy as np\n",
    "model_name = \"BAAI/bge-small-en\"\n",
    "embedding_model = TextEmbedding(model_name=model_name)\n",
    "\n",
    "EMBEDDING_DIMENSIONALITY = 384 \n",
    "\n",
    "text_embeddings = embedding_model.embed(text)\n",
    "text_list = np.array(list(text_embeddings))\n",
    "text_embedding_norm = text_list / np.linalg.norm(text_list, axis=1, keepdims=True)\n",
    "#text_embedding_norm = text_list / np.linalg.norm(text_list)"
   ]
  },
  {
   "cell_type": "code",
   "execution_count": 98,
   "id": "28ebbfb7-7b87-4a75-867b-849b174ad681",
   "metadata": {},
   "outputs": [
    {
     "name": "stdout",
     "output_type": "stream",
     "text": [
      "(375, 384)\n",
      "(1, 384)\n"
     ]
    }
   ],
   "source": [
    "query = 'I just discovered the course. Can I join now?'\n",
    "embeddings_generator = embedding_model.embed(query)\n",
    "query_list = np.array(list(embeddings_generator))\n",
    "query_embedding_norm = query_list / np.linalg.norm(query_list)\n",
    "\n",
    "# Print shapes for verification\n",
    "print(text_embedding_norm.shape)\n",
    "print(query_embedding_norm.shape)\n",
    "\n",
    "similarities = np.dot(text_embedding_norm, query_embedding_norm.T)"
   ]
  },
  {
   "cell_type": "code",
   "execution_count": 99,
   "id": "6db3382d-f5ce-420c-a434-13f33e5f5be9",
   "metadata": {},
   "outputs": [
    {
     "name": "stdout",
     "output_type": "stream",
     "text": [
      "[0.8147728]\n"
     ]
    }
   ],
   "source": [
    "print(similarities[0])"
   ]
  },
  {
   "cell_type": "code",
   "execution_count": 100,
   "id": "48d8d439-ba33-452a-b894-1df921a25f16",
   "metadata": {},
   "outputs": [
    {
     "name": "stdout",
     "output_type": "stream",
     "text": [
      "\n",
      "Cosine Similarities with Query:\n",
      "Highest similarity value: 0.8703\n"
     ]
    }
   ],
   "source": [
    "print(\"\\nCosine Similarities with Query:\")\n",
    "# Find the index of the document with the highest similarity\n",
    "highest_similarity_index = np.argmax(similarities)\n",
    "max_similarity_value = similarities[highest_similarity_index]\n",
    "\n",
    "print(f\"Highest similarity value: {max_similarity_value[0]:.4f}\")"
   ]
  },
  {
   "cell_type": "code",
   "execution_count": null,
   "id": "d987a840-f7ea-4a84-84ef-3e2e5a01baaf",
   "metadata": {},
   "outputs": [],
   "source": []
  }
 ],
 "metadata": {
  "kernelspec": {
   "display_name": "Python 3 (ipykernel)",
   "language": "python",
   "name": "python3"
  },
  "language_info": {
   "codemirror_mode": {
    "name": "ipython",
    "version": 3
   },
   "file_extension": ".py",
   "mimetype": "text/x-python",
   "name": "python",
   "nbconvert_exporter": "python",
   "pygments_lexer": "ipython3",
   "version": "3.12.3"
  }
 },
 "nbformat": 4,
 "nbformat_minor": 5
}
