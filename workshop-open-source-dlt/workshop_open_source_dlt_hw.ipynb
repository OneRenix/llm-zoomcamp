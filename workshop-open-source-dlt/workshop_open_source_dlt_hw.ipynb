{
 "nbformat": 4,
 "nbformat_minor": 0,
 "metadata": {
  "colab": {
   "provenance": []
  },
  "kernelspec": {
   "name": "python3",
   "display_name": "Python 3"
  },
  "language_info": {
   "name": "python"
  }
 },
 "cells": [
  {
   "cell_type": "markdown",
   "source": [
    "# Homework - Workshop: Open-Source Data Ingestion\n"
   ],
   "metadata": {
    "id": "RSIGjwTVzHjm"
   }
  },
  {
   "cell_type": "markdown",
   "source": [
    "**Install Required Python Libraries:**\n",
    "\n",
    "`dlt[qdrant]`: This installs the dlt (Data Load Tool) library along with an extra component specifically for integration with Qdrant. DLT is a Python library designed for building data pipelines. The `[qdrant]` specifies that we are using Qdrant as a vector database.\n",
    "\n",
    "`qdrant-client[fastembed]`: This installs the qdrant-client library, which is the official Python client for interacting with a Qdrant vector database. The `[fastembed] `part indicates that it will also install fastembed, which is a library for generating embeddings (numerical representations of text or other data) efficiently.\n",
    "\n",
    "\n",
    "---\n",
    "\n"
   ],
   "metadata": {
    "id": "ptZ-6mAC-BNe"
   }
  },
  {
   "cell_type": "code",
   "source": [
    "!pip install -q \"dlt[qdrant]\" \"qdrant-client[fastembed]\""
   ],
   "metadata": {
    "id": "Se9OnxZyzMST",
    "colab": {
     "base_uri": "https://localhost:8080/"
    },
    "outputId": "8aa1d881-032b-4f6c-e35e-d670de4da629"
   },
   "execution_count": null,
   "outputs": [
    {
     "output_type": "stream",
     "name": "stdout",
     "text": [
      "\u001b[?25l   \u001b[90m\u2501\u2501\u2501\u2501\u2501\u2501\u2501\u2501\u2501\u2501\u2501\u2501\u2501\u2501\u2501\u2501\u2501\u2501\u2501\u2501\u2501\u2501\u2501\u2501\u2501\u2501\u2501\u2501\u2501\u2501\u2501\u2501\u2501\u2501\u2501\u2501\u2501\u2501\u2501\u2501\u001b[0m \u001b[32m0.0/100.9 kB\u001b[0m \u001b[31m?\u001b[0m eta \u001b[36m-:--:--\u001b[0m\r\u001b[2K   \u001b[90m\u2501\u2501\u2501\u2501\u2501\u2501\u2501\u2501\u2501\u2501\u2501\u2501\u2501\u2501\u2501\u2501\u2501\u2501\u2501\u2501\u2501\u2501\u2501\u2501\u2501\u2501\u2501\u2501\u2501\u2501\u2501\u2501\u2501\u2501\u2501\u2501\u2501\u2501\u2501\u2501\u001b[0m \u001b[32m100.9/100.9 kB\u001b[0m \u001b[31m7.4 MB/s\u001b[0m eta \u001b[36m0:00:00\u001b[0m\n",
      "\u001b[?25h\u001b[?25l   \u001b[90m\u2501\u2501\u2501\u2501\u2501\u2501\u2501\u2501\u2501\u2501\u2501\u2501\u2501\u2501\u2501\u2501\u2501\u2501\u2501\u2501\u2501\u2501\u2501\u2501\u2501\u2501\u2501\u2501\u2501\u2501\u2501\u2501\u2501\u2501\u2501\u2501\u2501\u2501\u2501\u2501\u001b[0m \u001b[32m0.0/353.7 kB\u001b[0m \u001b[31m?\u001b[0m eta \u001b[36m-:--:--\u001b[0m\r\u001b[2K   \u001b[90m\u2501\u2501\u2501\u2501\u2501\u2501\u2501\u2501\u2501\u2501\u2501\u2501\u2501\u2501\u2501\u2501\u2501\u2501\u2501\u2501\u2501\u2501\u2501\u2501\u2501\u2501\u2501\u2501\u2501\u2501\u2501\u2501\u2501\u2501\u2501\u2501\u2501\u2501\u2501\u2501\u001b[0m \u001b[32m353.7/353.7 kB\u001b[0m \u001b[31m21.0 MB/s\u001b[0m eta \u001b[36m0:00:00\u001b[0m\n",
      "\u001b[2K   \u001b[90m\u2501\u2501\u2501\u2501\u2501\u2501\u2501\u2501\u2501\u2501\u2501\u2501\u2501\u2501\u2501\u2501\u2501\u2501\u2501\u2501\u2501\u2501\u2501\u2501\u2501\u2501\u2501\u2501\u2501\u2501\u2501\u2501\u2501\u2501\u2501\u2501\u2501\u2501\u2501\u2501\u001b[0m \u001b[32m329.0/329.0 kB\u001b[0m \u001b[31m18.4 MB/s\u001b[0m eta \u001b[36m0:00:00\u001b[0m\n",
      "\u001b[2K   \u001b[90m\u2501\u2501\u2501\u2501\u2501\u2501\u2501\u2501\u2501\u2501\u2501\u2501\u2501\u2501\u2501\u2501\u2501\u2501\u2501\u2501\u2501\u2501\u2501\u2501\u2501\u2501\u2501\u2501\u2501\u2501\u2501\u2501\u2501\u2501\u2501\u2501\u2501\u2501\u2501\u2501\u001b[0m \u001b[32m986.0/986.0 kB\u001b[0m \u001b[31m46.7 MB/s\u001b[0m eta \u001b[36m0:00:00\u001b[0m\n",
      "\u001b[2K   \u001b[90m\u2501\u2501\u2501\u2501\u2501\u2501\u2501\u2501\u2501\u2501\u2501\u2501\u2501\u2501\u2501\u2501\u2501\u2501\u2501\u2501\u2501\u2501\u2501\u2501\u2501\u2501\u2501\u2501\u2501\u2501\u2501\u2501\u2501\u2501\u2501\u2501\u2501\u2501\u2501\u2501\u001b[0m \u001b[32m61.6/61.6 kB\u001b[0m \u001b[31m4.5 MB/s\u001b[0m eta \u001b[36m0:00:00\u001b[0m\n",
      "\u001b[2K   \u001b[90m\u2501\u2501\u2501\u2501\u2501\u2501\u2501\u2501\u2501\u2501\u2501\u2501\u2501\u2501\u2501\u2501\u2501\u2501\u2501\u2501\u2501\u2501\u2501\u2501\u2501\u2501\u2501\u2501\u2501\u2501\u2501\u2501\u2501\u2501\u2501\u2501\u2501\u2501\u2501\u2501\u001b[0m \u001b[32m101.6/101.6 kB\u001b[0m \u001b[31m7.2 MB/s\u001b[0m eta \u001b[36m0:00:00\u001b[0m\n",
      "\u001b[2K   \u001b[90m\u2501\u2501\u2501\u2501\u2501\u2501\u2501\u2501\u2501\u2501\u2501\u2501\u2501\u2501\u2501\u2501\u2501\u2501\u2501\u2501\u2501\u2501\u2501\u2501\u2501\u2501\u2501\u2501\u2501\u2501\u2501\u2501\u2501\u2501\u2501\u2501\u2501\u2501\u2501\u2501\u001b[0m \u001b[32m16.4/16.4 MB\u001b[0m \u001b[31m44.0 MB/s\u001b[0m eta \u001b[36m0:00:00\u001b[0m\n",
      "\u001b[2K   \u001b[90m\u2501\u2501\u2501\u2501\u2501\u2501\u2501\u2501\u2501\u2501\u2501\u2501\u2501\u2501\u2501\u2501\u2501\u2501\u2501\u2501\u2501\u2501\u2501\u2501\u2501\u2501\u2501\u2501\u2501\u2501\u2501\u2501\u2501\u2501\u2501\u2501\u2501\u2501\u2501\u2501\u001b[0m \u001b[32m324.8/324.8 kB\u001b[0m \u001b[31m21.9 MB/s\u001b[0m eta \u001b[36m0:00:00\u001b[0m\n",
      "\u001b[2K   \u001b[90m\u2501\u2501\u2501\u2501\u2501\u2501\u2501\u2501\u2501\u2501\u2501\u2501\u2501\u2501\u2501\u2501\u2501\u2501\u2501\u2501\u2501\u2501\u2501\u2501\u2501\u2501\u2501\u2501\u2501\u2501\u2501\u2501\u2501\u2501\u2501\u2501\u2501\u2501\u2501\u2501\u001b[0m \u001b[32m46.0/46.0 kB\u001b[0m \u001b[31m2.9 MB/s\u001b[0m eta \u001b[36m0:00:00\u001b[0m\n",
      "\u001b[2K   \u001b[90m\u2501\u2501\u2501\u2501\u2501\u2501\u2501\u2501\u2501\u2501\u2501\u2501\u2501\u2501\u2501\u2501\u2501\u2501\u2501\u2501\u2501\u2501\u2501\u2501\u2501\u2501\u2501\u2501\u2501\u2501\u2501\u2501\u2501\u2501\u2501\u2501\u2501\u2501\u2501\u2501\u001b[0m \u001b[32m86.8/86.8 kB\u001b[0m \u001b[31m6.2 MB/s\u001b[0m eta \u001b[36m0:00:00\u001b[0m\n",
      "\u001b[?25h"
     ]
    }
   ]
  },
  {
   "cell_type": "markdown",
   "source": [
    "Show DLT version\n",
    "\n",
    "\n",
    "---\n",
    "\n"
   ],
   "metadata": {
    "id": "BrhamABJ_kGS"
   }
  },
  {
   "cell_type": "code",
   "source": [
    "!pip show dlt"
   ],
   "metadata": {
    "colab": {
     "base_uri": "https://localhost:8080/"
    },
    "id": "kB0ZApUB0j9E",
    "outputId": "d759ec6a-a1f1-4403-b4cc-be56a4de6c8e"
   },
   "execution_count": null,
   "outputs": [
    {
     "output_type": "stream",
     "name": "stdout",
     "text": [
      "Name: dlt\n",
      "Version: 1.13.0\n",
      "Summary: dlt is an open-source python-first scalable data loading library that does not require any backend to run.\n",
      "Home-page: https://github.com/dlt-hub\n",
      "Author: \n",
      "Author-email: \"dltHub Inc.\" <services@dlthub.com>\n",
      "License: \n",
      "Location: /usr/local/lib/python3.11/dist-packages\n",
      "Requires: click, fsspec, gitpython, giturlparse, hexbytes, humanize, jsonpath-ng, orjson, packaging, pathvalidate, pendulum, pluggy, pytz, pyyaml, requests, requirements-parser, rich-argparse, semver, setuptools, simplejson, sqlglot, tenacity, tomlkit, typing-extensions, tzdata\n",
      "Required-by: \n"
     ]
    }
   ]
  },
  {
   "cell_type": "markdown",
   "source": [
    "Import Required Libraries\n",
    "\n",
    "---\n",
    "\n"
   ],
   "metadata": {
    "id": "eUzVm3d6AAm9"
   }
  },
  {
   "cell_type": "code",
   "source": [
    "import dlt\n",
    "import requests"
   ],
   "metadata": {
    "id": "a71nzASlJgU_"
   },
   "execution_count": null,
   "outputs": []
  },
  {
   "cell_type": "markdown",
   "source": [
    "`@dlt.resource` declares the function as resource\n",
    "`write_disponsition` defines how should the data be loaded at the destination which is replace\n",
    "\n",
    "---\n",
    "\n"
   ],
   "metadata": {
    "id": "EYCnC4-vBf6N"
   }
  },
  {
   "cell_type": "code",
   "source": [
    "@dlt.resource(name='zoomcamp_data', write_disposition='replace')\n",
    "\n",
    "def zoomcamp_data():\n",
    "    docs_url = 'https://github.com/alexeygrigorev/llm-rag-workshop/raw/main/notebooks/documents.json'\n",
    "    docs_response = requests.get(docs_url)\n",
    "    documents_raw = docs_response.json()\n",
    "\n",
    "    for course in documents_raw:\n",
    "        course_name = course['course']\n",
    "\n",
    "        for doc in course['documents']:\n",
    "            doc['course'] = course_name\n",
    "            yield doc"
   ],
   "metadata": {
    "id": "Jp1FHxiczRXt"
   },
   "execution_count": null,
   "outputs": []
  },
  {
   "cell_type": "markdown",
   "source": [
    "Define the destination which is Qdrant vector database. Data will be stored in db.qdrant file placed in current working directory.\n",
    "\n",
    "---\n",
    "\n"
   ],
   "metadata": {
    "id": "xWa3DflAFAVr"
   }
  },
  {
   "cell_type": "code",
   "source": [
    "from dlt.destinations import qdrant\n",
    "\n",
    "destination_vector_db = qdrant(\n",
    "  qd_path=\"db.qdrant\",\n",
    ")"
   ],
   "metadata": {
    "id": "MuH6hER2ILa3"
   },
   "execution_count": null,
   "outputs": []
  },
  {
   "cell_type": "markdown",
   "source": [
    "Define the pipeline"
   ],
   "metadata": {
    "id": "HM8nB4kOFOib"
   }
  },
  {
   "cell_type": "code",
   "source": [
    "llm_pipeline = dlt.pipeline(\n",
    "    pipeline_name=\"zoomcamp_pipeline\",\n",
    "    destination=destination_vector_db,\n",
    "    dataset_name=\"zoomcamp_tagged_data\"\n",
    ")"
   ],
   "metadata": {
    "id": "425834ftITJO"
   },
   "execution_count": null,
   "outputs": []
  },
  {
   "cell_type": "markdown",
   "source": [
    "Run the pipeline\n",
    "\n",
    "---\n",
    "\n"
   ],
   "metadata": {
    "id": "TseXyA3cEgQ7"
   }
  },
  {
   "cell_type": "code",
   "source": [
    "load_info = llm_pipeline.run(\n",
    "  zoomcamp_data()\n",
    ")\n",
    "print(llm_pipeline.last_trace)"
   ],
   "metadata": {
    "id": "un4LrZ9UEcjv",
    "colab": {
     "base_uri": "https://localhost:8080/",
     "height": 712,
     "referenced_widgets": [
      "9f52b46a34124405af887c230a6f6894",
      "ceb8b54f9bec4b3896fa4fa87e0b9fc6",
      "1497f7f2e5244b15b1680169e762b945",
      "eb6aab0a82a64230af2d38adb72fa140",
      "359d12e677104d8b98bb495f4b006ae1",
      "d4aaec4252144bd19665fda150af1321",
      "4880578a76dc4db58dda3b6334943cbf",
      "41fb800d309e47cc9556dc0d9cef571e",
      "485b1093aa854f099ce618dbc87f604c",
      "c0cd0a372de54397a1c841ad4bdac7a2",
      "3fe1d7bdcae44325a2f20042bc4e9bab",
      "3a915e7408404b7b85ebdd7fcf97cab4",
      "97c4549c328a495eb33fef8e6eb4ef94",
      "b98397129e9d4b27892fd81dcb07d1fc",
      "661fc9eaee914f548d713cfdd1e3b67b",
      "bed618b2d5ff43b7b46d215181d66eca",
      "67ea61fbc091498a9831a43c2e7e17de",
      "74c6be1a4ffe4656bf1492578ca2d6b4",
      "b1f97a3359ae461084c2fffda166e7fd",
      "df9d2954dc984925862a4b665b63bd61",
      "e5c3527acf3545bda8a4490a20780308",
      "a1d3ea965f654d279a009f29b9b8853d",
      "3428e218dce64ecfa9ddd36c6345096f",
      "717b5f721a7f4300947bbb596294c535",
      "2211a1e08274490dbdc442bf62b4520f",
      "cf262042b5a54602afd17510fbf408aa",
      "389ce79f845f40379d959f70f2c6af64",
      "30d6e06f635e49c1a8e5e0867e2f6394",
      "9ec91f28215b401c93dc212f0f5b1907",
      "a0edd70bb89840e2824ebc4c0338f851",
      "6140a3a0c4714adb9ce16f8700b9445d",
      "be588151134742709532a7c989fa46cf",
      "25dbf19661ff41678afad6432ff19175",
      "2c397567f62b42ff9d44aaf598f270d4",
      "70e704445d3b40f3838d49841b51e1bd",
      "beb7cf2885ad4735abc396003fb8edf6",
      "328904e0522e40869c6d7a52e367abb3",
      "debefb38abc542c8a15981ca6f025ad2",
      "300d386c04b94042ab7afef8d3d6736b",
      "c8c7d53d84ab4c75a2aaff73fc9f028b",
      "585e807e46b04c8ab2e5d337eb06cec2",
      "e580b00c02f941d79160319aec4bf5d8",
      "f64e1b5942ce46fd9fc678e13b6a25be",
      "0f07c274a8a44c9baea6735ca51bbf39",
      "b188de4148e6477f9c2b435a34dbbf5e",
      "11475bfdaaab437696e28d6f9cc6b7fa",
      "2ebf45bf174d403a91e184b18aa7b2c8",
      "35f01d02df464ee4b2a6d1b563080dc8",
      "268dfc508ea34f4381c2eeca2cbe29aa",
      "ef2ccf7ac8c544f3874d41d34b9d0bbb",
      "c5fb44df67f542b1abc551f39d6c8051",
      "122c42001b994ec39616f1c4ea9b4273",
      "fd9c330bfb7245f6ae851ea89657d5d5",
      "fc59ffe3b6d1458db9553bc1f0866b5c",
      "989304e3574f468b812ff6bed6979f3e",
      "71c2c75e757c4222bc17867be8320cd2",
      "1c01a0a8aba3428e9e0ab7d4b62a6d46",
      "a586ab87cd624b2393e7d74e1e0cd438",
      "d0b22121f2a24673a3d269af20e339db",
      "99efa91cf8cc480f8fefb51d3c51dcd2",
      "d38fae05106a44bfbf7a6dfdf1532101",
      "12e4dd76541b40d6814026721c5bbfd8",
      "b41bb935c8094039adf57b26b5379caa",
      "6833a9cdf98f490fbeb7119a33c5008e",
      "e223932a1449469eb20c154e1d990366",
      "eefaf6e880fe44c581afe5c3abecbeba"
     ]
    },
    "outputId": "9a90c43f-8976-448c-8410-63c7fd1bd3e1"
   },
   "execution_count": null,
   "outputs": [
    {
     "output_type": "stream",
     "name": "stderr",
     "text": [
      "/usr/local/lib/python3.11/dist-packages/huggingface_hub/utils/_auth.py:94: UserWarning: \n",
      "The secret `HF_TOKEN` does not exist in your Colab secrets.\n",
      "To authenticate with the Hugging Face Hub, create a token in your settings tab (https://huggingface.co/settings/tokens), set it as secret in your Google Colab and restart your session.\n",
      "You will be able to reuse this secret in all of your notebooks.\n",
      "Please note that authentication is recommended but still optional to access public models or datasets.\n",
      "  warnings.warn(\n"
     ]
    },
    {
     "output_type": "display_data",
     "data": {
      "text/plain": [
       "Fetching 5 files:   0%|          | 0/5 [00:00<?, ?it/s]"
      ],
      "application/vnd.jupyter.widget-view+json": {
       "version_major": 2,
       "version_minor": 0,
       "model_id": "9f52b46a34124405af887c230a6f6894"
      }
     },
     "metadata": {}
    },
    {
     "output_type": "display_data",
     "data": {
      "text/plain": [
       "config.json:   0%|          | 0.00/701 [00:00<?, ?B/s]"
      ],
      "application/vnd.jupyter.widget-view+json": {
       "version_major": 2,
       "version_minor": 0,
       "model_id": "3a915e7408404b7b85ebdd7fcf97cab4"
      }
     },
     "metadata": {}
    },
    {
     "output_type": "display_data",
     "data": {
      "text/plain": [
       "special_tokens_map.json:   0%|          | 0.00/125 [00:00<?, ?B/s]"
      ],
      "application/vnd.jupyter.widget-view+json": {
       "version_major": 2,
       "version_minor": 0,
       "model_id": "3428e218dce64ecfa9ddd36c6345096f"
      }
     },
     "metadata": {}
    },
    {
     "output_type": "display_data",
     "data": {
      "text/plain": [
       "tokenizer.json: 0.00B [00:00, ?B/s]"
      ],
      "application/vnd.jupyter.widget-view+json": {
       "version_major": 2,
       "version_minor": 0,
       "model_id": "2c397567f62b42ff9d44aaf598f270d4"
      }
     },
     "metadata": {}
    },
    {
     "output_type": "display_data",
     "data": {
      "text/plain": [
       "model_optimized.onnx:   0%|          | 0.00/133M [00:00<?, ?B/s]"
      ],
      "application/vnd.jupyter.widget-view+json": {
       "version_major": 2,
       "version_minor": 0,
       "model_id": "b188de4148e6477f9c2b435a34dbbf5e"
      }
     },
     "metadata": {}
    },
    {
     "output_type": "display_data",
     "data": {
      "text/plain": [
       "tokenizer_config.json:   0%|          | 0.00/366 [00:00<?, ?B/s]"
      ],
      "application/vnd.jupyter.widget-view+json": {
       "version_major": 2,
       "version_minor": 0,
       "model_id": "71c2c75e757c4222bc17867be8320cd2"
      }
     },
     "metadata": {}
    },
    {
     "output_type": "stream",
     "name": "stdout",
     "text": [
      "Run started at 2025-07-09 22:07:43.318980+00:00 and COMPLETED in 17.70 seconds with 4 steps.\n",
      "Step extract COMPLETED in 0.63 seconds.\n",
      "\n",
      "Load package 1752098867.6977303 is EXTRACTED and NOT YET LOADED to the destination and contains no failed jobs\n",
      "\n",
      "Step normalize COMPLETED in 0.17 seconds.\n",
      "Normalized data for the following tables:\n",
      "- zoomcamp_data: 948 row(s)\n",
      "- _dlt_pipeline_state: 1 row(s)\n",
      "\n",
      "Load package 1752098867.6977303 is NORMALIZED and NOT YET LOADED to the destination and contains no failed jobs\n",
      "\n",
      "Step load COMPLETED in 12.53 seconds.\n",
      "Pipeline zoomcamp_pipeline load step completed in 12.49 seconds\n",
      "1 load package(s) were loaded to destination qdrant and into dataset zoomcamp_tagged_data\n",
      "The qdrant destination used /content/db.qdrant location to store data\n",
      "Load package 1752098867.6977303 is LOADED and contains no failed jobs\n",
      "\n",
      "Step run COMPLETED in 17.70 seconds.\n",
      "Pipeline zoomcamp_pipeline load step completed in 12.49 seconds\n",
      "1 load package(s) were loaded to destination qdrant and into dataset zoomcamp_tagged_data\n",
      "The qdrant destination used /content/db.qdrant location to store data\n",
      "Load package 1752098867.6977303 is LOADED and contains no failed jobs\n"
     ]
    }
   ]
  },
  {
   "cell_type": "markdown",
   "source": [
    "Get Load Info\n",
    "\n",
    "---\n",
    "\n"
   ],
   "metadata": {
    "id": "-UQy-oNEPD0H"
   }
  },
  {
   "cell_type": "code",
   "source": [
    "print(load_info)"
   ],
   "metadata": {
    "colab": {
     "base_uri": "https://localhost:8080/"
    },
    "id": "fgYlxjjBOypB",
    "outputId": "4920bf7a-8ee5-44bb-ab43-6f1002638ae6"
   },
   "execution_count": null,
   "outputs": [
    {
     "output_type": "stream",
     "name": "stdout",
     "text": [
      "Pipeline zoomcamp_pipeline load step completed in 12.49 seconds\n",
      "1 load package(s) were loaded to destination qdrant and into dataset zoomcamp_tagged_data\n",
      "The qdrant destination used /content/db.qdrant location to store data\n",
      "Load package 1752098867.6977303 is LOADED and contains no failed jobs\n"
     ]
    }
   ]
  },
  {
   "cell_type": "code",
   "source": [
    "# After dlt pipeline has successfully run and created db.qdrant\n",
    "# List contents of the current working directory to see if db.qdrant is there\n",
    "!ls"
   ],
   "metadata": {
    "id": "K9sqCrW1LIef",
    "colab": {
     "base_uri": "https://localhost:8080/"
    },
    "outputId": "12215872-c0be-4962-cabc-ddeb42486cfa"
   },
   "execution_count": null,
   "outputs": [
    {
     "output_type": "stream",
     "name": "stdout",
     "text": [
      "db.qdrant  sample_data\n"
     ]
    }
   ]
  },
  {
   "cell_type": "code",
   "source": [
    "# If you see 'db.qdrant' in the output of the above command,\n",
    "# you can then list the contents of the db.qdrant directory:\n",
    "!ls db.qdrant"
   ],
   "metadata": {
    "colab": {
     "base_uri": "https://localhost:8080/"
    },
    "id": "fy0RRrSAMi4u",
    "outputId": "f1ec2df5-9064-4df3-fbef-d0c572e14b15"
   },
   "execution_count": null,
   "outputs": [
    {
     "output_type": "stream",
     "name": "stdout",
     "text": [
      "collection  meta.json\n"
     ]
    }
   ]
  },
  {
   "cell_type": "code",
   "source": [
    "# To see contents of subdirectories (e.g., 'collections' for Qdrant data)\n",
    "!ls db.qdrant/meta.json"
   ],
   "metadata": {
    "colab": {
     "base_uri": "https://localhost:8080/"
    },
    "id": "w6kDP2U8MkKd",
    "outputId": "74044b40-d5a7-4eaa-a6ce-9c06df6d7413"
   },
   "execution_count": null,
   "outputs": [
    {
     "output_type": "stream",
     "name": "stdout",
     "text": [
      "db.qdrant/meta.json\n"
     ]
    }
   ]
  },
  {
   "cell_type": "markdown",
   "source": [
    "Find the embedding model"
   ],
   "metadata": {
    "id": "RcomGdwBP2g_"
   }
  },
  {
   "cell_type": "code",
   "source": [
    "import json\n",
    "\n",
    "# Adjust this path based on where you found meta.json\n",
    "meta_file_path = 'db.qdrant/meta.json' # Example path\n",
    "\n",
    "try:\n",
    "    with open(meta_file_path, 'r') as f:\n",
    "        meta_data = json.load(f)\n",
    "    print(json.dumps(meta_data, indent=2))\n",
    "except FileNotFoundError:\n",
    "    print(f\"Error: {meta_file_path} not found. Please check the path.\")\n",
    "except json.JSONDecodeError:\n",
    "    print(f\"Error: Could not decode JSON from {meta_file_path}.\")"
   ],
   "metadata": {
    "colab": {
     "base_uri": "https://localhost:8080/"
    },
    "id": "e08ITh31Mq-S",
    "outputId": "84510a5a-c9ea-48c8-9737-b2751e6616ed"
   },
   "execution_count": null,
   "outputs": [
    {
     "output_type": "stream",
     "name": "stdout",
     "text": [
      "{\n",
      "  \"collections\": {\n",
      "    \"zoomcamp_tagged_data\": {\n",
      "      \"vectors\": {\n",
      "        \"fast-bge-small-en\": {\n",
      "          \"size\": 384,\n",
      "          \"distance\": \"Cosine\",\n",
      "          \"hnsw_config\": null,\n",
      "          \"quantization_config\": null,\n",
      "          \"on_disk\": null,\n",
      "          \"datatype\": null,\n",
      "          \"multivector_config\": null\n",
      "        }\n",
      "      },\n",
      "      \"shard_number\": null,\n",
      "      \"sharding_method\": null,\n",
      "      \"replication_factor\": null,\n",
      "      \"write_consistency_factor\": null,\n",
      "      \"on_disk_payload\": null,\n",
      "      \"hnsw_config\": null,\n",
      "      \"wal_config\": null,\n",
      "      \"optimizers_config\": null,\n",
      "      \"init_from\": null,\n",
      "      \"quantization_config\": null,\n",
      "      \"sparse_vectors\": null,\n",
      "      \"strict_mode_config\": null\n",
      "    },\n",
      "    \"zoomcamp_tagged_data__dlt_pipeline_state\": {\n",
      "      \"vectors\": {\n",
      "        \"fast-bge-small-en\": {\n",
      "          \"size\": 384,\n",
      "          \"distance\": \"Cosine\",\n",
      "          \"hnsw_config\": null,\n",
      "          \"quantization_config\": null,\n",
      "          \"on_disk\": null,\n",
      "          \"datatype\": null,\n",
      "          \"multivector_config\": null\n",
      "        }\n",
      "      },\n",
      "      \"shard_number\": null,\n",
      "      \"sharding_method\": null,\n",
      "      \"replication_factor\": null,\n",
      "      \"write_consistency_factor\": null,\n",
      "      \"on_disk_payload\": null,\n",
      "      \"hnsw_config\": null,\n",
      "      \"wal_config\": null,\n",
      "      \"optimizers_config\": null,\n",
      "      \"init_from\": null,\n",
      "      \"quantization_config\": null,\n",
      "      \"sparse_vectors\": null,\n",
      "      \"strict_mode_config\": null\n",
      "    },\n",
      "    \"zoomcamp_tagged_data__dlt_loads\": {\n",
      "      \"vectors\": {\n",
      "        \"fast-bge-small-en\": {\n",
      "          \"size\": 384,\n",
      "          \"distance\": \"Cosine\",\n",
      "          \"hnsw_config\": null,\n",
      "          \"quantization_config\": null,\n",
      "          \"on_disk\": null,\n",
      "          \"datatype\": null,\n",
      "          \"multivector_config\": null\n",
      "        }\n",
      "      },\n",
      "      \"shard_number\": null,\n",
      "      \"sharding_method\": null,\n",
      "      \"replication_factor\": null,\n",
      "      \"write_consistency_factor\": null,\n",
      "      \"on_disk_payload\": null,\n",
      "      \"hnsw_config\": null,\n",
      "      \"wal_config\": null,\n",
      "      \"optimizers_config\": null,\n",
      "      \"init_from\": null,\n",
      "      \"quantization_config\": null,\n",
      "      \"sparse_vectors\": null,\n",
      "      \"strict_mode_config\": null\n",
      "    },\n",
      "    \"zoomcamp_tagged_data__dlt_version\": {\n",
      "      \"vectors\": {\n",
      "        \"fast-bge-small-en\": {\n",
      "          \"size\": 384,\n",
      "          \"distance\": \"Cosine\",\n",
      "          \"hnsw_config\": null,\n",
      "          \"quantization_config\": null,\n",
      "          \"on_disk\": null,\n",
      "          \"datatype\": null,\n",
      "          \"multivector_config\": null\n",
      "        }\n",
      "      },\n",
      "      \"shard_number\": null,\n",
      "      \"sharding_method\": null,\n",
      "      \"replication_factor\": null,\n",
      "      \"write_consistency_factor\": null,\n",
      "      \"on_disk_payload\": null,\n",
      "      \"hnsw_config\": null,\n",
      "      \"wal_config\": null,\n",
      "      \"optimizers_config\": null,\n",
      "      \"init_from\": null,\n",
      "      \"quantization_config\": null,\n",
      "      \"sparse_vectors\": null,\n",
      "      \"strict_mode_config\": null\n",
      "    },\n",
      "    \"zoomcamp_tagged_data_zoomcamp_data\": {\n",
      "      \"vectors\": {\n",
      "        \"fast-bge-small-en\": {\n",
      "          \"size\": 384,\n",
      "          \"distance\": \"Cosine\",\n",
      "          \"hnsw_config\": null,\n",
      "          \"quantization_config\": null,\n",
      "          \"on_disk\": null,\n",
      "          \"datatype\": null,\n",
      "          \"multivector_config\": null\n",
      "        }\n",
      "      },\n",
      "      \"shard_number\": null,\n",
      "      \"sharding_method\": null,\n",
      "      \"replication_factor\": null,\n",
      "      \"write_consistency_factor\": null,\n",
      "      \"on_disk_payload\": null,\n",
      "      \"hnsw_config\": null,\n",
      "      \"wal_config\": null,\n",
      "      \"optimizers_config\": null,\n",
      "      \"init_from\": null,\n",
      "      \"quantization_config\": null,\n",
      "      \"sparse_vectors\": null,\n",
      "      \"strict_mode_config\": null\n",
      "    }\n",
      "  },\n",
      "  \"aliases\": {}\n",
      "}\n"
     ]
    }
   ]
  },
  {
   "cell_type": "code",
   "source": [
    "vector_info = meta_data['collections']['zoomcamp_tagged_data']['vectors']\n",
    "\n",
    "# Get the keys of the 'vectors_data' dictionary\n",
    "keys = vector_info.keys()\n",
    "\n",
    "# Since 'fast-bge-small-en' is the only key, you can convert keys to a list and get the first element\n",
    "first_key = list(keys)[0]\n",
    "\n",
    "print(first_key)"
   ],
   "metadata": {
    "id": "tiahghrSObRv",
    "colab": {
     "base_uri": "https://localhost:8080/"
    },
    "outputId": "1fac30a8-0576-473b-d274-00a35ead4c8b"
   },
   "execution_count": null,
   "outputs": [
    {
     "output_type": "stream",
     "name": "stdout",
     "text": [
      "fast-bge-small-en\n"
     ]
    }
   ]
  }
 ]
}
