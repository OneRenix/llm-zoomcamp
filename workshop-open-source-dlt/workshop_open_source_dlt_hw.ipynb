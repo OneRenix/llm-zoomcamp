{
  "nbformat": 4,
  "nbformat_minor": 0,
  "metadata": {
    "colab": {
      "provenance": []
    },
    "kernelspec": {
      "name": "python3",
      "display_name": "Python 3"
    },
    "language_info": {
      "name": "python"
    },
    "widgets": {
      "application/vnd.jupyter.widget-state+json": {
        "9f52b46a34124405af887c230a6f6894": {
          "model_module": "@jupyter-widgets/controls",
          "model_name": "HBoxModel",
          "model_module_version": "1.5.0",
          "state": {}
        },
        "ceb8b54f9bec4b3896fa4fa87e0b9fc6": {
          "model_module": "@jupyter-widgets/controls",
          "model_name": "HTMLModel",
          "model_module_version": "1.5.0",
          "state": {}
        },
        "1497f7f2e5244b15b1680169e762b945": {
          "model_module": "@jupyter-widgets/controls",
          "model_name": "FloatProgressModel",
          "model_module_version": "1.5.0",
          "state": {}
        },
        "eb6aab0a82a64230af2d38adb72fa140": {
          "model_module": "@jupyter-widgets/controls",
          "model_name": "HTMLModel",
          "model_module_version": "1.5.0",
          "state": {}
        },
        "359d12e677104d8b98bb495f4b006ae1": {
          "model_module": "@jupyter-widgets/base",
          "model_name": "LayoutModel",
          "model_module_version": "1.2.0",
          "state": {}
        },
        "d4aaec4252144bd19665fda150af1321": {
          "model_module": "@jupyter-widgets/base",
          "model_name": "LayoutModel",
          "model_module_version": "1.2.0",
          "state": {}
        },
        "4880578a76dc4db58dda3b6334943cbf": {
          "model_module": "@jupyter-widgets/controls",
          "model_name": "DescriptionStyleModel",
          "model_module_version": "1.5.0",
          "state": {}
        },
        "41fb800d309e47cc9556dc0d9cef571e": {
          "model_module": "@jupyter-widgets/base",
          "model_name": "LayoutModel",
          "model_module_version": "1.2.0",
          "state": {}
        },
        "485b1093aa854f099ce618dbc87f604c": {
          "model_module": "@jupyter-widgets/controls",
          "model_name": "ProgressStyleModel",
          "model_module_version": "1.5.0",
          "state": {}
        },
        "c0cd0a372de54397a1c841ad4bdac7a2": {
          "model_module": "@jupyter-widgets/base",
          "model_name": "LayoutModel",
          "model_module_version": "1.2.0",
          "state": {}
        },
        "3fe1d7bdcae44325a2f20042bc4e9bab": {
          "model_module": "@jupyter-widgets/controls",
          "model_name": "DescriptionStyleModel",
          "model_module_version": "1.5.0",
          "state": {}
        },
        "3a915e7408404b7b85ebdd7fcf97cab4": {
          "model_module": "@jupyter-widgets/controls",
          "model_name": "HBoxModel",
          "model_module_version": "1.5.0",
          "state": {}
        },
        "97c4549c328a495eb33fef8e6eb4ef94": {
          "model_module": "@jupyter-widgets/controls",
          "model_name": "HTMLModel",
          "model_module_version": "1.5.0",
          "state": {}
        },
        "b98397129e9d4b27892fd81dcb07d1fc": {
          "model_module": "@jupyter-widgets/controls",
          "model_name": "FloatProgressModel",
          "model_module_version": "1.5.0",
          "state": {}
        },
        "661fc9eaee914f548d713cfdd1e3b67b": {
          "model_module": "@jupyter-widgets/controls",
          "model_name": "HTMLModel",
          "model_module_version": "1.5.0",
          "state": {}
        },
        "bed618b2d5ff43b7b46d215181d66eca": {
          "model_module": "@jupyter-widgets/base",
          "model_name": "LayoutModel",
          "model_module_version": "1.2.0",
          "state": {}
        },
        "67ea61fbc091498a9831a43c2e7e17de": {
          "model_module": "@jupyter-widgets/base",
          "model_name": "LayoutModel",
          "model_module_version": "1.2.0",
          "state": {}
        },
        "74c6be1a4ffe4656bf1492578ca2d6b4": {
          "model_module": "@jupyter-widgets/controls",
          "model_name": "DescriptionStyleModel",
          "model_module_version": "1.5.0",
          "state": {}
        },
        "b1f97a3359ae461084c2fffda166e7fd": {
          "model_module": "@jupyter-widgets/base",
          "model_name": "LayoutModel",
          "model_module_version": "1.2.0",
          "state": {}
        },
        "df9d2954dc984925862a4b665b63bd61": {
          "model_module": "@jupyter-widgets/controls",
          "model_name": "ProgressStyleModel",
          "model_module_version": "1.5.0",
          "state": {}
        },
        "e5c3527acf3545bda8a4490a20780308": {
          "model_module": "@jupyter-widgets/base",
          "model_name": "LayoutModel",
          "model_module_version": "1.2.0",
          "state": {}
        },
        "a1d3ea965f654d279a009f29b9b8853d": {
          "model_module": "@jupyter-widgets/controls",
          "model_name": "DescriptionStyleModel",
          "model_module_version": "1.5.0",
          "state": {}
        },
        "3428e218dce64ecfa9ddd36c6345096f": {
          "model_module": "@jupyter-widgets/controls",
          "model_name": "HBoxModel",
          "model_module_version": "1.5.0",
          "state": {}
        },
        "717b5f721a7f4300947bbb596294c535": {
          "model_module": "@jupyter-widgets/controls",
          "model_name": "HTMLModel",
          "model_module_version": "1.5.0",
          "state": {}
        },
        "2211a1e08274490dbdc442bf62b4520f": {
          "model_module": "@jupyter-widgets/controls",
          "model_name": "FloatProgressModel",
          "model_module_version": "1.5.0",
          "state": {}
        },
        "cf262042b5a54602afd17510fbf408aa": {
          "model_module": "@jupyter-widgets/controls",
          "model_name": "HTMLModel",
          "model_module_version": "1.5.0",
          "state": {}
        },
        "389ce79f845f40379d959f70f2c6af64": {
          "model_module": "@jupyter-widgets/base",
          "model_name": "LayoutModel",
          "model_module_version": "1.2.0",
          "state": {}
        },
        "30d6e06f635e49c1a8e5e0867e2f6394": {
          "model_module": "@jupyter-widgets/base",
          "model_name": "LayoutModel",
          "model_module_version": "1.2.0",
          "state": {}
        },
        "9ec91f28215b401c93dc212f0f5b1907": {
          "model_module": "@jupyter-widgets/controls",
          "model_name": "DescriptionStyleModel",
          "model_module_version": "1.5.0",
          "state": {}
        },
        "a0edd70bb89840e2824ebc4c0338f851": {
          "model_module": "@jupyter-widgets/base",
          "model_name": "LayoutModel",
          "model_module_version": "1.2.0",
          "state": {}
        },
        "6140a3a0c4714adb9ce16f8700b9445d": {
          "model_module": "@jupyter-widgets/controls",
          "model_name": "ProgressStyleModel",
          "model_module_version": "1.5.0",
          "state": {}
        },
        "be588151134742709532a7c989fa46cf": {
          "model_module": "@jupyter-widgets/base",
          "model_name": "LayoutModel",
          "model_module_version": "1.2.0",
          "state": {}
        },
        "25dbf19661ff41678afad6432ff19175": {
          "model_module": "@jupyter-widgets/controls",
          "model_name": "DescriptionStyleModel",
          "model_module_version": "1.5.0",
          "state": {}
        },
        "2c397567f62b42ff9d44aaf598f270d4": {
          "model_module": "@jupyter-widgets/controls",
          "model_name": "HBoxModel",
          "model_module_version": "1.5.0",
          "state": {}
        },
        "70e704445d3b40f3838d49841b51e1bd": {
          "model_module": "@jupyter-widgets/controls",
          "model_name": "HTMLModel",
          "model_module_version": "1.5.0",
          "state": {}
        }
      }
    }
  },
  "cells": [
    {
      "cell_type": "code",
      "source": [
        "import os\n",
        "import openai\n",
        "from openai import OpenAI\n",
        "import pandas as pd\n",
        "from dotenv import load_dotenv, find_dotenv\n",
        "\n",
        "# Load environment variables from .env file\n",
        "load_dotenv(find_dotenv())\n",
        "\n",
        "# Get the OpenAI API key from the environment\n",
        "openai_api_key = os.environ.get(\"OPENAI_API_KEY\")\n",
        "if not openai_api_key:\n",
        "    raise ValueError(\"OPENAI_API_KEY not found in environment variables\")\n",
        "\n",
        "# Initialize the OpenAI client\n",
        "client = OpenAI(api_key=openai_api_key)\n",
        "\n",
        "try:\n",
        "    # Make a dummy API call to check the key\n",
        "    client.models.list()\n",
        "    print(\"OpenAI API key is valid.\")\n",
        "except openai.AuthenticationError:\n",
        "    print(\"OpenAI API key is invalid. Please check your .env file.\")\n",
        "except Exception as e:\n",
        "    print(f\"An error occurred: {e}\")"
      ],
      "metadata": {
        "id": "e0b82f01"
      },
      "outputs": [
        {
          "name": "stdout",
          "output_type": "stream",
          "text": [
            "OpenAI API key is invalid. Please check your .env file.\n"
          ]
        }
      ]
    },
    {
      "cell_type": "code",
      "source": [
        "from datasets import load_dataset\n",
        "\n",
        "# Load the dataset from Hugging Face\n",
        "dataset = load_dataset(\"MongoDB/embedded_movies\")\n",
        "\n",
        "# Convert to pandas DataFrame\n",
        "df = pd.DataFrame(dataset[\"train\"])"
      ],
      "metadata": {
        "id": "67f33878"
      },
      "outputs": []
    },
    {
      "cell_type": "code",
      "source": [
        "print(\"Number of documents in the dataset:\", len(df))\n",
        "print(\"\\nFirst 5 documents:\")\n",
        "print(df.head())"
      ],
      "metadata": {
        "id": "764b819f"
      },
      "outputs": [
        {
          "name": "stdout",
          "output_type": "stream",
          "text": [
            "Number of documents in the dataset: 1500\n",
            "\n",
            "First 5 documents:\n",
            "  _id                                      plot  \n",
            "0  {'oid': '573a1391f29313caabcd7908'}  When a doctor is suspended from the staff of a ...\n",
            "1  {'oid': '573a1391f29313caabcd7a66'}  A group of children try to expose a con man in...\n",
            "2  {'oid': '573a1391f29313caabcd7b6d'}  A woman discovers her husband is not the man s...\n",
            "3  {'oid': '573a1391f29313caabcd7c5a'}  The leader of a gang of teenage thugs exacts h...\n",
            "4  {'oid': '573a1391f29313caabcd7ca0'}  An ex-con is running a racket of his own, in w...\n",
            "\n",
            "                                                genres  \n",
            "0                                      [\"Drama\", \"Romance\"]  \n",
            "1                                    [[\"Comedy\", \"Family\"]]  \n",
            "2                                  [[\"Drama\", \"Romance\"]]  \n",
            "3                                   [[\"Drama\", \"Crime\"]]  \n",
            "4  [[\"Crime\", \"Drama\", \"Film-Noir\", \"Thriller\"]]  \n",
            "\n",
            "                                                runtime  \n",
            "0                                                  96  \n",
            "1                                                  93  \n",
            "2                                                 106  \n",
            "3                                                  70  \n",
            "4                                                  83  \n",
            "\n",
            "                                                  rated  \n",
            "0                                                   UNR  \n",
            "1                                                   UNR  \n",
            "2                                                   UNR  \n",
            "3                                                   UNR  \n",
            "4                                                   NOT\n",
            "\n",
            "                                                    cast  \n",
            "0  [\"Stephen McNally\", \"Alexis Smith\", \"Don DeFore\", \"Marjorie Du...\n",
            "1    [\"George Sanders\", \"Hurd Hatfield\", \"Walter Slezak\", \"Anne Fra...\n",
            "2  [\"George Brent\", \"Joan Fontaine\", \"Alexis Smith\", \"Zachary Sc...\n",
            "3         [\"Leo Gorcey\", \"Bobby Jordan\", \"Huntz Hall\", \"Gabriel Dell\"]\n",
            "4  [\"Richard Conte\", \"Joan Blondell\", \"Jack Oakie\", \"Bill Williams...\n",
            "\n",
            "                                                    num_mflix_comments  \n",
            "0                                                                    1  \n",
            "1                                                                    0  \n",
            "2                                                                    0  \n",
            "3                                                                    0  \n",
            "4                                                                    1  \n",
            "\n",
            "                                                    poster  \n",
            "0  https://m.media-amazon.com/images/M/MV5BZWQ2NTRh...\n",
            "1  https://m.media-amazon.com/images/M/MV5BNWRhNDM...\n",
            "2                                                  None  \n",
            "3                                                  None  \n",
            "4  https://m.media-amazon.com/images/M/MV5BMjA3NDI...\n",
            "\n",
            "                                                  title  \n",
            "0                                        The Decision of Christopher Blake  \n",
            "1                                                 The Big Bus  \n",
            "2                                    The Constant Nymph  \n",
            "3                                      The Black Cat  \n",
            "4                                           The Racket  \n",
            "\n",
            "  fullplot                                             directors  \n",
            "0      None                                           [\"Peter Godfrey\"]\n",
            "1      None                                        [\"James Frawley\"]\n",
            "2      None                                          [\"Edmund Goulding\"]\n",
            "3      None                                          [\"Albert S. Rogell\"]\n",
            "4      None                                          [\"John Cromwell\"]\n",
            "\n",
            "                       writers                                   awards  \n",
            "0                         None  1 win.\n",
            "1        [\"Fred Freeman\", \"Broderick Miller\"]    1 nomination.\n",
            "2  [\"Catherine Turnbull\", \"Edward Chodorov\", \"Constantine FitzGibbon...\n",
            "3       [\"Robert Gordon\", \"Eric Taylor\"]    1 nomination.\n",
            "4             [\"William W. Haines\"]    1 win.\n",
            "\n",
            "                                  lastupdated  year  imdb  \n",
            "0  2015-09-02 00:39:19.467000000          1948   6.4  \n",
            "1  2015-08-16 00:04:19.727000000          1976   6.7  \n",
            "2  2015-08-29 01:02:18.783000000          1943   7.4  \n",
            "3  2015-08-22 00:05:44.270000000          1941   6.4  \n",
            "4  2015-09-01 00:44:03.250000000          1951   6.7  \n",
            "\n",
            "                                      countries  \n",
            "0                                  [\"USA\"]  \n",
            "1                                  [\"USA\"]  \n",
            "2                                  [\"USA\"]  \n",
            "3                                  [\"USA\"]  \n",
            "4                                  [\"USA\"]  \n",
            "\n",
            "                                  type  tomatoes  metacritic  \n",
            "0                                  movie      None        None  \n",
            "1                                  movie      None        None  \n",
            "2                                  movie      None        None  \n",
            "3                                  movie      None        None  \n",
            "4                                  movie      None        None  \n",
            "\n",
            "                                   plot_embedding  \n",
            "0  [-0.038421865, -0.013725597, 0.007673595, -0.01...\n",
            "1  [-0.006900661, -0.01430722, 0.003923985, -0.00...\n",
            "2  [-0.005391307, 0.006395632, 0.022710385, 0.005...\n",
            "3  [-0.01859664, -0.007672228, 0.01252093, -0.021...\n",
            "4  [-0.01010376, 0.0055106967, 0.0016462664, -0.0..."
          ]
        }
      ]
    },
    {
      "cell_type": "code",
      "source": [
        "from IPython.display import display, Markdown\n",
        "\n",
        "def display_query_results(query, results):\n",
        "    display(Markdown(f\"## Similar Movies to: {query}\"))\n",
        "    for movie in results:\n",
        "        # Handle cases where 'poster' might be missing\n",
        "        poster_url = movie.get('poster', 'https://via.placeholder.com/150?text=No+Poster')\n",
        "        \n",
        "        # Display movie title and poster\n",
        "        display(Markdown(\n",
        "            f\"### {movie['title']}\\n\"\n",
        "            f\"![Poster]({poster_url})\\n\"\n",
        "        ))\n",
        "        \n",
        "        # Display genres if available\n",
        "        if movie.get('genres'):\n",
        "            display(Markdown(f\"**Genres:** {', '.join(movie['genres'])}<br>\"))\n",
        "        \n",
        "        # Display plot if available\n",
        "        if movie.get('plot'):\n",
        "            display(Markdown(f\"**Plot:** {movie['plot']}<br>\"))\n",
        "        \n",
        "        display(Markdown(\"---\")) # Separator"
      ],
      "metadata": {
        "id": "e6f42371"
      },
      "outputs": []
    },
    {
      "cell_type": "code",
      "source": [
        "from qdrant_client import QdrantClient, models\n",
        "\n",
        "# Initialize Qdrant Client\n",
        "# This client is for local use (in-memory, persistent on disk)\n",
        "client = QdrantClient(path=\"qdrant_db\")\n",
        "\n",
        "collection_name = \"zoomcamp_rag_hw\"\n",
        "\n",
        "vectors_config = models.VectorParams(size=1536, distance=models.Distance.COSINE)\n",
        "\n",
        "client.recreate_collection(\n",
        "    collection_name=collection_name,\n",
        "    vectors_config=vectors_config,\n",
        ")"
      ],
      "metadata": {
        "id": "21045958",
        "colab": {
          "base_uri": "https://localhost:8080/",
          "height": 139
        },
        "outputId": "3884b611-6677-4950-b08e-151ec5092a40"
      },
      "outputs": [
        {
          "output_type": "stream",
          "name": "stdout",
          "text": [
            "2024-07-09 21:05:46.331201: I Tcl/Tk: Initializing Libuv\n",
            "2024-07-09 21:05:46.331464: I Tcl/Tk: Starting Libuv loop\n",
            "2024-07-09 21:05:46.332306: I Tcl/Tk: Setting up Qdrant gRPC client\n",
            "2024-07-09 21:05:46.332356: I Tcl/Tk: Setting up Qdrant REST client\n",
            "2024-07-09 21:05:46.332468: I Tcl/Tk: QdrantClient in local mode: qdrant_db\n",
            "2024-07-09 21:05:46.332824: I Tcl/Tk: Using DefaultUser for user context\n",
            "2024-07-09 21:05:46.332876: I Tcl/Tk: Connecting to Qdrant\n"
          ]
        },
        {
          "data": {
            "text/plain": [
              "True"
            ]
          },
          "metadata": {},
          "output_type": "execute_result"
        }
      ]
    },
    {
      "cell_type": "code",
      "source": [
        "client.get_collections()"
      ],
      "metadata": {
        "id": "3bb6c433",
        "colab": {
          "base_uri": "https://localhost:8080/",
          "height": 178
        },
        "outputId": "1b072836-e0e9-4e44-8848-03823467c667"
      },
      "outputs": [
        {
          "output_type": "stream",
          "name": "stdout",
          "text": [
            "2024-07-09 21:05:46.333917: I Tcl/Tk: List all collections\n"
          ]
        },
        {
          "data": {
            "text/plain": [
              "CollectionsResponse(\n",
              "    collections=[\n",
              "        CollectionInfo(name='zoomcamp_rag_hw', points_count=0, segments_count=0, config=CollectionConfig(params=CollectionParams(vectors_config={'size': 1536, 'distance': <Distance.COSINE: 'Cosine'>}, on_disk_payload=True, replication_factor=1, write_consistency_factor=1, read_replica_factor=1, shard_number=1, sharding_method=<ShardingMethod.AUTO: 'auto'>, collection_type=<CollectionType.UNSPECIFIED: 'unspecified'>, init_from=None), hnsw_config=HnswConfig(m=16, ef_construct=100, full_scan_threshold=10000, max_indexing_threads=0, on_disk=True, payload_m=None, payload_ef_construct=None, precise_hnsw_extended_total_pages=False, rescore_fanout_tolerance=None), optimizers_config=OptimizersConfig(deleted_threshold=0.6, vacuum_min_vector_number=1000, default_segment_number=0, max_segment_size=None, memmap_threshold=None, indexing_threshold=20000, flush_interval_sec=5, max_indexing_threads=0, max_optimization_threads=0), wal_config=WalConfig(wal_capacity_mb=32, wal_segments_ahead=0), quantization_config=None, sparse_vectors_config=None, custom_payload_index=None, quant_config=None), status=<CollectionStatus.GREEN: 'green'>, optimizer_status=<OptimizerStatus.OK: 'ok'>)\n",
              "    ]\n",
              ")"
            ]
          },
          "metadata": {},
          "output_type": "execute_result"
        }
      ]
    },
    {
      "cell_type": "code",
      "source": [
        "df[\"id\"] = df.index"
      ],
      "metadata": {
        "id": "674e2d36"
      },
      "outputs": []
    },
    {
      "cell_type": "code",
      "source": [
        "points = [\n",
        "    models.PointStruct(\n",
        "        id=row[\"id\"],\n",
        "        vector={\n",
        "            \"text\": row[\"plot_embedding\"],\n",
        "        },\n",
        "        payload=row.to_dict()\n",
        "    )\n",
        "    for idx, row in df.iterrows()\n",
        "]"
      ],
      "metadata": {
        "id": "c1694f4b"
      },
      "outputs": []
    },
    {
      "cell_type": "code",
      "source": [
        "client.upsert(\n",
        "    collection_name=collection_name,\n",
        "    wait=True,\n",
        "    points=points\n",
        ")"
      ],
      "metadata": {
        "id": "5863c0a4",
        "colab": {
          "base_uri": "https://localhost:8080/",
          "height": 178
        },
        "outputId": "349b1a50-6d09-43ed-972c-f661c469502b"
      },
      "outputs": [
        {
          "output_type": "stream",
          "name": "stdout",
          "text": [
            "2024-07-09 21:05:46.338574: I Tcl/Tk: Upsert points\n"
          ]
        },
        {
          "data": {
            "text/plain": [
              "UpdateResult(operation_id=0, status=<UpdateStatus.COMPLETED: 'completed'>)"
            ]
          },
          "metadata": {},
          "output_type": "execute_result"
        }
      ]
    },
    {
      "cell_type": "code",
      "source": [
        "client.count(collection_name=collection_name, exact=True)"
      ],
      "metadata": {
        "id": "239b981f",
        "colab": {
          "base_uri": "https://localhost:8080/",
          "height": 178
        },
        "outputId": "e1434c44-d8aa-41f2-8926-2a4c1488c03d"
      },
      "outputs": [
        {
          "output_type": "stream",
          "name": "stdout",
          "text": [
            "2024-07-09 21:05:46.340058: I Tcl/Tk: Count points in collection\n"
          ]
        },
        {
          "data": {
            "text/plain": [
              "CountResponse(count=1500)"
            ]
          },
          "metadata": {},
          "output_type": "execute_result"
        }
      ]
    },
    {
      "cell_type": "code",
      "source": [
        "# Helper function to search in Qdrant\n",
        "def search_qdrant(query_embedding, collection_name, limit=5):\n",
        "    return client.search(\n",
        "        collection_name=collection_name,\n",
        "        query_vector=(\"text\", query_embedding),\n",
        "        limit=limit,\n",
        "        append_payload=True\n",
        "    )"
      ],
      "metadata": {
        "id": "e8574d75"
      },
      "outputs": []
    },
    {
      "cell_type": "code",
      "source": [
        "embedding_model = \"text-embedding-ada-002\" # Update to new embedding model\n",
        "\n",
        "def get_embedding(text, model=embedding_model):\n",
        "   text = text.replace(\"\\n\", \" \")\n",
        "   return client.embeddings.create(input=[text], model=model).data[0].embedding"
      ],
      "metadata": {
        "id": "560410ff"
      },
      "outputs": []
    },
    {
      "cell_type": "code",
      "source": [
        "query = \"recommend a movie about a princess and a frog\"\n",
        "query_embedding = get_embedding(query)\n",
        "\n",
        "search_results = search_qdrant(query_embedding, collection_name)\n",
        "display_query_results(query, [s.payload for s in search_results])"
      ],
      "metadata": {
        "id": "67167a57",
        "colab": {
          "base_uri": "https://localhost:8080/",
          "height": 451
        },
        "outputId": "34919597-9e79-43c3-9828-56f8f5333f28"
      },
      "outputs": [
        {
          "output_type": "stream",
          "name": "stdout",
          "text": [
            "2024-07-09 21:05:46.340919: I Tcl/Tk: Search points in collection\n"
          ]
        },
        {
          "data": {
            "text/markdown": [
              "## Similar Movies to: recommend a movie about a princess and a frog\n",
              "### A Kid in King Arthur's Court\n",
              "![Poster](https://m.media-amazon.com/images/M/MV5BMjA3NTcwNjg5M15BMl5BanBnXkFtZTcwMzk4OTIyMQ@@._V1_SY1000_CR0,0,670,1000_AL_.jpg)\n",
              "**Genres:** Adventure, Comedy, Family, Fantasy<br>\n",
              "**Plot:** A young boy is magically transported to King Arthur's court where he helps Arthur and Merlin save Camelot from an evil sorcerer.\n",
              "---\n",
              "### Ella Enchanted\n",
              "![Poster](https://m.media-amazon.com/images/M/MV5BMTg0NjE3NTQ2NV5BMl5BanBnXkFtZTcwOTQyMzg0NA@@._V1_SY1000_CR0,0,674,1000_AL_.jpg)\n",
              "**Genres:** Comedy, Family, Fantasy, Romance<br>\n",
              "**Plot:** Ella is under a spell to be obedient, a "gift" that allows her to be taken advantage of by unscrupulous others.\n",
              "---\n",
              "### The Princess and the Frog\n",
              "![Poster](https://m.media-amazon.com/images/M/MV5BMjE0NDUwMzMzNV5BMl5BanBnXkFtZTcwNDQyNDIwMw@@._V1_SY1000_CR0,0,675,1000_AL_.jpg)\n",
              "**Genres:** Animation, Family, Fantasy, Musical, Romance<br>\n",
              "**Plot:** A waitress, desperate to fulfill her dreams as a restaurant owner, is transformed into a frog after kissing a frog prince who desperately wants to be human again.\n",
              "---\n",
              "### Into the Woods\n",
              "![Poster](https://m.media-amazon.com/images/M/MV5BNzA3NjkzODk1Ml5BMl5BanBnXkFtZTgwMTE4NjQ2MzE@._V1_SY1000_CR0,0,674,1000_AL_.jpg)\n",
              "**Genres:** Adventure, Comedy, Drama, Family, Fantasy, Musical<br>\n",
              "**Plot:** A witch tasks a childless baker and his wife with procuring magical items from classic fairy tales to reverse the curse put on their family tree.\n",
              "---\n",
              "### Enchanted\n",
              "![Poster](https://m.media-amazon.com/images/M/MV5BMTYxNzYxNjYxNF5BMl5BanBnXkFtZTcwMjE4MTIwMw@@._V1_SY1000_CR0,0,675,1000_AL_.jpg)\n",
              "**Genres:** Animation, Comedy, Family, Fantasy, Musical, Romance<br>\n",
              "**Plot:** Giselle, a fairytale princess, is sent to New York City by an evil queen, where she falls in love with a handsome lawyer.\n",
              "---"
            ]
          },
          "metadata": {
            "needsUpdate": true
          },
          "output_type": "display_data"
        }
      ]
    },
    {
      "cell_type": "code",
      "source": [
        "query = \"Can you recommend a movie about a royal family and a throne?\"\n",
        "query_embedding = get_embedding(query)\n",
        "\n",
        "search_results = search_qdrant(query_embedding, collection_name)\n",
        "display_query_results(query, [s.payload for s in search_results])"
      ],
      "metadata": {
        "id": "0d20d4f2",
        "colab": {
          "base_uri": "https://localhost:8080/",
          "height": 451
        },
        "outputId": "34919597-9e79-43c3-9828-56f8f5333f28"
      },
      "outputs": [
        {
          "output_type": "stream",
          "name": "stdout",
          "text": [
            "2024-07-09 21:05:46.342171: I Tcl/Tk: Search points in collection\n"
          ]
        },
        {
          "data": {
            "text/markdown": [
              "## Similar Movies to: Can you recommend a movie about a royal family and a throne?\n",
              "### Hamlet\n",
              "![Poster](https://m.media-amazon.com/images/M/MV5BMjMwMjE4MDgyOF5BMl5BanBnXkFtZTcwODQ0MTIwNA@@._V1_SY1000_CR0,0,675,1000_AL_.jpg)\n",
              "**Genres:** Drama<br>\n",
              "**Plot:** When his uncle murders his father and marries his mother, a troubled prince seeks vengeance.\n",
              "---\n",
              "### Prince of Foxes\n",
              "![Poster](https://m.media-amazon.com/images/M/MV5BNWRlOTg5NDYtOWM0NS00NDc1LWI3OTUtZjA0OTk4ZDU3YmQzXkEyXkFqcGdeQXVyMzI4NzkxMTI@._V1_SY1000_CR0,0,650,1000_AL_.jpg)\n",
              "**Genres:** Adventure, Drama, History, Romance<br>\n",
              "**Plot:** Cesare Borgia, son of Pope Alexander VI, attempts to gain control of all of Italy.\n",
              "---\n",
              "### The Lion King\n",
              "![Poster](https://m.media-amazon.com/images/M/MV5BYTYxNGMyNTAtNzA5MC00MGE4LWJlMjMtZTkzYWI0YmMyYzliXkEyXkFqcGdeQXVyMjUzOTY1NTc@._V1_SY1000_CR0,0,672,1000_AL_.jpg)\n",
              "**Genres:** Animation, Adventure, Drama, Family, Musical<br>\n",
              "**Plot:** Lion cub and future king Simba is tricked by his evil uncle Scar into thinking he caused his father Mufasa's death and flees into exile in shame.\n",
              "---\n",
              "### Anastasia\n",
              "![Poster](https://m.media-amazon.com/images/M/MV5BNmQ4ZmVlNjYtMDY3NS00MjkzLWJhYjgtY2M0MzNjYWQ0ZWJmXkEyXkFqcGdeQXVyMjUzOTY1NTc@._V1_SY1000_CR0,0,670,1000_AL_.jpg)\n",
              "**Genres:** Animation, Adventure, Drama, Family, Fantasy, Musical, Romance<br>\n",
              "**Plot:** The lost daughter of the Russian royal family escapes the evil Rasputin and seeks to find her true identity.\n",
              "---\n",
              "### The Princess Diaries\n",
              "![Poster](https://m.media-amazon.com/images/M/MV5BMTY4NDYxOTcxMl5BMl5BanBnXkFtZTYwNTY5MTQ3._V1_SY1000_CR0,0,674,1000_AL_.jpg)\n",
              "**Genres:** Comedy, Family, Romance<br>\n",
              "**Plot:** Mia Thermopolis is a shy, unpopular teenager who is surprised to learn that she is the heir to the throne of Genovia.\n",
              "---"
            ]
          },
          "metadata": {
            "needsUpdate": true
          },
          "output_type": "display_data"
        }
      ]
    },
    {
      "cell_type": "code",
      "source": [
        "query = \"Tell me about a princess trying to find true love and facing challenges to get it\"\n",
        "query_embedding = get_embedding(query)\n",
        "\n",
        "search_results = search_qdrant(query_embedding, collection_name)\n",
        "display_query_results(query, [s.payload for s in search_results])"
      ],
      "metadata": {
        "id": "e98e7275",
        "colab": {
          "base_uri": "https://localhost:8080/",
          "height": 451
        },
        "outputId": "34919597-9e79-43c3-9828-56f8f5333f28"
      },
      "outputs": [
        {
          "output_type": "stream",
          "name": "stdout",
          "text": [
            "2024-07-09 21:05:46.343132: I Tcl/Tk: Search points in collection\n"
          ]
        },
        {
          "data": {
            "text/markdown": [
              "## Similar Movies to: Tell me about a princess trying to find true love and facing challenges to get it\n",
              "### The Princess Diaries\n",
              "![Poster](https://m.media-amazon.com/images/M/MV5BMTY4NDYxOTcxMl5BMl5BanBnXkFtZTYwNTY5MTQ3._V1_SY1000_CR0,0,674,1000_AL_.jpg)\n",
              "**Genres:** Comedy, Family, Romance<br>\n",
              "**Plot:** Mia Thermopolis is a shy, unpopular teenager who is surprised to learn that she is the heir to the throne of Genovia.\n",
              "---\n",
              "### Enchanted\n",
              "![Poster](https://m.media-amazon.com/images/M/MV5BMTYxNzYxNjYxNF5BMl5BanBnXkFtZTcwMjE4MTIwMw@@._V1_SY1000_CR0,0,675,1000_AL_.jpg)\n",
              "**Genres:** Animation, Comedy, Family, Fantasy, Musical, Romance<br>\n",
              "**Plot:** Giselle, a fairytale princess, is sent to New York City by an evil queen, where she falls in love with a handsome lawyer.\n",
              "---\n",
              "### Ella Enchanted\n",
              "![Poster](https://m.media-amazon.com/images/M/MV5BMTg0NjE3NTQ2NV5BMl5BanBnXkFtZTcwOTQyMzg0NA@@._V1_SY1000_CR0,0,674,1000_AL_.jpg)\n",
              "**Genres:** Comedy, Family, Fantasy, Romance<br>\n",
              "**Plot:** Ella is under a spell to be obedient, a "gift" that allows her to be taken advantage of by unscrupulous others.\n",
              "---\n",
              "### Anastasia\n",
              "![Poster](https://m.media-amazon.com/images/M/MV5BNmQ4ZmVlNjYtMDY3NS00MjkzLWJhYjgtY2M0MzNjYWQ0ZWJmXkEyXkFqcGdeQXVyMjUzOTY1NTc@._V1_SY1000_CR0,0,670,1000_AL_.jpg)\n",
              "**Genres:** Animation, Adventure, Drama, Family, Fantasy, Musical, Romance<br>\n",
              "**Plot:** The lost daughter of the Russian royal family escapes the evil Rasputin and seeks to find her true identity.\n",
              "---\n",
              "### A Kid in King Arthur's Court\n",
              "![Poster](https://m.media-amazon.com/images/M/MV5BMjA3NTcwNjg5M15BMl5BanBnXkFtZTcwMzk4OTIyMQ@@._V1_SY1000_CR0,0,670,1000_AL_.jpg)\n",
              "**Genres:** Adventure, Comedy, Family, Fantasy<br>\n",
              "**Plot:** A young boy is magically transported to King Arthur's court where he helps Arthur and Merlin save Camelot from an evil sorcerer.\n",
              "---"
            ]
          },
          "metadata": {
            "needsUpdate": true
          },
          "output_type": "display_data"
        }
      ]
    },
    {
      "cell_type": "code",
      "source": [
        "meta_data = client.retrieve(\n",
        "    collection_name=\"zoomcamp_tagged_data\",\n",
        "    ids=[0],\n",
        "    with_payload=True,\n",
        "    with_vectors=True,\n",
        ")\n",
        "\n",
        "meta_data = meta_data[0].dict()"
      ],
      "metadata": {
        "id": "e6a10dfa",
        "colab": {
          "base_uri": "https://localhost:8080/",
          "height": 451
        },
        "outputId": "34919597-9e79-43c3-9828-56f8f5333f28"
      },
      "outputs": [
        {
          "output_type": "stream",
          "name": "stdout",
          "text": [
            "2024-07-09 21:05:46.344400: I Tcl/Tk: Retrieve points from collection\n"
          ]
        },
        {
          "data": {
            "text/plain": [
              "QdrantClientException: Collection zoomcamp_tagged_data not found!"
            ]
          },
          "metadata": {},
          "output_type": "execute_result"
        }
      ]
    },
    {
      "cell_type": "code",
      "source": [
        "print(meta_data['vectors']['fast-bge-small-en']['density'])"
      ],
      "metadata": {
        "id": "J1xI52d4808I",
        "colab": {
          "base_uri": "https://localhost:8080/"
        },
        "outputId": "e0cf55ed-2184-4860-fc4d-3b9bb8e54702"
      },
      "outputs": [
        {
          "output_type": "stream",
          "name": "stderr",
          "text": [
            "NameError: name 'meta_data' is not defined\n"
          ]
        }
      ]
    },
    {
      "cell_type": "code",
      "source": [
        "vectors_info = meta_data['collections']['zoomcamp_tagged_data']['vectors']\n",
        "\n",
        "# Get the keys of the 'vectors_data' dictionary\n",
        "keys = vectors_info.keys()\n",
        "\n",
        "# Since 'fast-bge-small-en' is the only key, you can convert keys to a list and get the first element\n",
        "first_key = list(keys)[0]\n",
        "\n",
        "print(first_key)"
      ],
      "metadata": {
        "id": "tiahghrSObRv",
        "colab": {
          "base_uri": "https://localhost:8080/"
        },
        "outputId": "1fac4d3f-5d46-4e50-a92c-623c72d3e5e4"
      },
      "outputs": [
        {
          "output_type": "stream",
          "name": "stderr",
          "text": [
            "NameError: name 'meta_data' is not defined\n"
          ]
        }
      ]
    }
  ]
}
